{
 "cells": [
  {
   "cell_type": "code",
   "execution_count": 2,
   "id": "b4a12561",
   "metadata": {
    "execution": {
     "iopub.execute_input": "2025-07-09T05:53:59.166967Z",
     "iopub.status.busy": "2025-07-09T05:53:59.166440Z",
     "iopub.status.idle": "2025-07-09T05:54:03.046636Z",
     "shell.execute_reply": "2025-07-09T05:54:03.045486Z"
    },
    "papermill": {
     "duration": 3.89261,
     "end_time": "2025-07-09T05:54:03.048789",
     "exception": false,
     "start_time": "2025-07-09T05:53:59.156179",
     "status": "completed"
    },
    "tags": []
   },
   "outputs": [],
   "source": [
    "import pandas as pd\n",
    "import numpy as np\n",
    "\n",
    "# vizualizatsiya\n",
    "import matplotlib.pyplot as plt\n",
    "%matplotlib inline\n",
    "import seaborn as sns\n",
    "\n",
    "# modellar\n",
    "from sklearn.model_selection import train_test_split\n",
    "from sklearn.ensemble import RandomForestClassifier\n",
    "from sklearn.linear_model import LogisticRegression\n",
    "from sklearn.tree import DecisionTreeClassifier, plot_tree\n",
    "from sklearn.svm import SVC\n",
    "from xgboost import XGBClassifier\n",
    "from catboost import CatBoostClassifier\n",
    "\n",
    "# Pipline\n",
    "from sklearn.pipeline import Pipeline\n",
    "from sklearn.pipeline import make_pipeline\n",
    "from sklearn.compose import ColumnTransformer\n",
    "\n",
    "\n",
    "# data preprocessing\n",
    "from sklearn.preprocessing import StandardScaler\n",
    "from sklearn.preprocessing import OneHotEncoder\n",
    "from sklearn.preprocessing import OrdinalEncoder\n",
    "from sklearn.impute import SimpleImputer\n",
    "\n",
    "# o'lchovlar\n",
    "import sklearn.metrics as metrics\n",
    "\n",
    "# modelni saqlash uchun\n",
    "import joblib "
   ]
  },
  {
   "cell_type": "markdown",
   "id": "1127f840",
   "metadata": {
    "papermill": {
     "duration": 0.009996,
     "end_time": "2025-07-09T05:54:03.067886",
     "exception": false,
     "start_time": "2025-07-09T05:54:03.057890",
     "status": "completed"
    },
    "tags": []
   },
   "source": [
    "**Quyida jadvaldagi datasetdagi ustun nomlari o‘zbek tiliga qisqacha tarjima qilinib, har biriga qisqa tushuntirish berilgan:**\n",
    "\n",
    "1. id - Identifikator: Har bir qator uchun noyob raqam, ma'lumotlarni aniqlash uchun ishlatiladi.\n",
    "2. N_Days - Kunlar soni: Bemorni kuzatish davomiyligi, kunlarda.\n",
    "3. Drug - Dori: Bemorga berilgan dori turi.\n",
    "4. Age - Yosh: Bemorning yoshi.\n",
    "5. Sex - Jins: Bemorning jinsi (erkak yoki ayol).\n",
    "6. Ascites - Assit: Qorin bo‘shlig‘ida suyuqlik to‘planishi (jigar kasalligi belgisi).\n",
    "7. Hepatomegaly - Gepatomegaliya: Jigar kattalashishi.\n",
    "8. Spiders - O‘rgimchak naqshlari: Teri ostidagi qon tomirlarining o‘rgimchak to‘riga o‘xshash ko‘rinishi.\n",
    "9. Edema - Shish: Tana a'zolarida (ko‘pincha oyoqlarda) suyuqlik tufayli shish paydo bo‘lishi.\n",
    "10. Bilirubin - Bilirubin: Qonda bilirubin darajasi, jigar faoliyatini ko‘rsatadi.\n",
    "11. Cholesterol - Xolesterin: Qondagi xolesterin darajasi.\n",
    "12. Albumin - Albumin: Qondagi oqsil turi, jigar sog‘lig‘ini ko‘rsatadi.\n",
    "13. Copper - Mis: Qondagi mis miqdori.\n",
    "14. Alk_Phos - Alkalin fosfataza: Jigar va suyaklar bilan bog‘liq ferment darajasi.\n",
    "15. SGOT - SGOT (AST): Jigar fermenti, jigar shikastlanishini ko‘rsatadi.\n",
    "16. Tryglicerides - Triglitseridlar: Qondagi yog‘ turi, yurak va jigar sog‘lig‘i bilan bog‘liq.\n",
    "17. Platelets - Trombotsitlar: Qonda trombotsitlar soni, qon ivishi uchun muhim.\n",
    "18. Prothrombin - Protrombin: Qon ivish vaqtini o‘lchaydigan ko‘rsatkich.\n",
    "19. Stage - Bosqich: Kasallikning rivojlanish bosqichi.\n",
    "20. Status - Holati: Bemorni holati (masalan, sog‘lom yoki kasal)."
   ]
  },
  {
   "cell_type": "code",
   "execution_count": 3,
   "id": "0eb00bcf",
   "metadata": {
    "execution": {
     "iopub.execute_input": "2025-07-09T05:54:03.086382Z",
     "iopub.status.busy": "2025-07-09T05:54:03.085825Z",
     "iopub.status.idle": "2025-07-09T05:54:03.209156Z",
     "shell.execute_reply": "2025-07-09T05:54:03.208099Z"
    },
    "papermill": {
     "duration": 0.134545,
     "end_time": "2025-07-09T05:54:03.210839",
     "exception": false,
     "start_time": "2025-07-09T05:54:03.076294",
     "status": "completed"
    },
    "tags": []
   },
   "outputs": [
    {
     "data": {
      "text/html": [
       "<div>\n",
       "<style scoped>\n",
       "    .dataframe tbody tr th:only-of-type {\n",
       "        vertical-align: middle;\n",
       "    }\n",
       "\n",
       "    .dataframe tbody tr th {\n",
       "        vertical-align: top;\n",
       "    }\n",
       "\n",
       "    .dataframe thead th {\n",
       "        text-align: right;\n",
       "    }\n",
       "</style>\n",
       "<table border=\"1\" class=\"dataframe\">\n",
       "  <thead>\n",
       "    <tr style=\"text-align: right;\">\n",
       "      <th></th>\n",
       "      <th>N_Days</th>\n",
       "      <th>Drug</th>\n",
       "      <th>Age</th>\n",
       "      <th>Sex</th>\n",
       "      <th>Ascites</th>\n",
       "      <th>Hepatomegaly</th>\n",
       "      <th>Spiders</th>\n",
       "      <th>Edema</th>\n",
       "      <th>Bilirubin</th>\n",
       "      <th>Cholesterol</th>\n",
       "      <th>Albumin</th>\n",
       "      <th>Copper</th>\n",
       "      <th>Alk_Phos</th>\n",
       "      <th>SGOT</th>\n",
       "      <th>Tryglicerides</th>\n",
       "      <th>Platelets</th>\n",
       "      <th>Prothrombin</th>\n",
       "      <th>Stage</th>\n",
       "      <th>Status</th>\n",
       "    </tr>\n",
       "    <tr>\n",
       "      <th>id</th>\n",
       "      <th></th>\n",
       "      <th></th>\n",
       "      <th></th>\n",
       "      <th></th>\n",
       "      <th></th>\n",
       "      <th></th>\n",
       "      <th></th>\n",
       "      <th></th>\n",
       "      <th></th>\n",
       "      <th></th>\n",
       "      <th></th>\n",
       "      <th></th>\n",
       "      <th></th>\n",
       "      <th></th>\n",
       "      <th></th>\n",
       "      <th></th>\n",
       "      <th></th>\n",
       "      <th></th>\n",
       "      <th></th>\n",
       "    </tr>\n",
       "  </thead>\n",
       "  <tbody>\n",
       "    <tr>\n",
       "      <th>0</th>\n",
       "      <td>2178.0</td>\n",
       "      <td>D-penicillamine</td>\n",
       "      <td>16374.0</td>\n",
       "      <td>F</td>\n",
       "      <td>N</td>\n",
       "      <td>N</td>\n",
       "      <td>N</td>\n",
       "      <td>N</td>\n",
       "      <td>0.5</td>\n",
       "      <td>263.0</td>\n",
       "      <td>3.20</td>\n",
       "      <td>43.0</td>\n",
       "      <td>1110.0</td>\n",
       "      <td>106.95</td>\n",
       "      <td>67.0</td>\n",
       "      <td>430.0</td>\n",
       "      <td>9.6</td>\n",
       "      <td>3.0</td>\n",
       "      <td>C</td>\n",
       "    </tr>\n",
       "    <tr>\n",
       "      <th>1</th>\n",
       "      <td>2644.0</td>\n",
       "      <td>D-penicillamine</td>\n",
       "      <td>17774.0</td>\n",
       "      <td>F</td>\n",
       "      <td>N</td>\n",
       "      <td>N</td>\n",
       "      <td>N</td>\n",
       "      <td>N</td>\n",
       "      <td>0.8</td>\n",
       "      <td>280.0</td>\n",
       "      <td>3.60</td>\n",
       "      <td>22.0</td>\n",
       "      <td>678.0</td>\n",
       "      <td>62.00</td>\n",
       "      <td>80.0</td>\n",
       "      <td>427.0</td>\n",
       "      <td>13.0</td>\n",
       "      <td>3.0</td>\n",
       "      <td>C</td>\n",
       "    </tr>\n",
       "    <tr>\n",
       "      <th>2</th>\n",
       "      <td>3069.0</td>\n",
       "      <td>Placebo</td>\n",
       "      <td>17844.0</td>\n",
       "      <td>F</td>\n",
       "      <td>N</td>\n",
       "      <td>N</td>\n",
       "      <td>N</td>\n",
       "      <td>N</td>\n",
       "      <td>1.1</td>\n",
       "      <td>408.0</td>\n",
       "      <td>4.40</td>\n",
       "      <td>54.0</td>\n",
       "      <td>2108.0</td>\n",
       "      <td>142.60</td>\n",
       "      <td>137.0</td>\n",
       "      <td>203.0</td>\n",
       "      <td>10.6</td>\n",
       "      <td>3.0</td>\n",
       "      <td>C</td>\n",
       "    </tr>\n",
       "    <tr>\n",
       "      <th>3</th>\n",
       "      <td>2216.0</td>\n",
       "      <td>Placebo</td>\n",
       "      <td>19221.0</td>\n",
       "      <td>F</td>\n",
       "      <td>N</td>\n",
       "      <td>Y</td>\n",
       "      <td>Y</td>\n",
       "      <td>N</td>\n",
       "      <td>0.8</td>\n",
       "      <td>252.0</td>\n",
       "      <td>3.70</td>\n",
       "      <td>36.0</td>\n",
       "      <td>843.0</td>\n",
       "      <td>55.80</td>\n",
       "      <td>56.0</td>\n",
       "      <td>336.0</td>\n",
       "      <td>9.6</td>\n",
       "      <td>4.0</td>\n",
       "      <td>C</td>\n",
       "    </tr>\n",
       "    <tr>\n",
       "      <th>4</th>\n",
       "      <td>2256.0</td>\n",
       "      <td>Placebo</td>\n",
       "      <td>21600.0</td>\n",
       "      <td>F</td>\n",
       "      <td>N</td>\n",
       "      <td>N</td>\n",
       "      <td>N</td>\n",
       "      <td>N</td>\n",
       "      <td>4.7</td>\n",
       "      <td>348.0</td>\n",
       "      <td>3.06</td>\n",
       "      <td>464.0</td>\n",
       "      <td>961.0</td>\n",
       "      <td>120.90</td>\n",
       "      <td>146.0</td>\n",
       "      <td>298.0</td>\n",
       "      <td>11.0</td>\n",
       "      <td>2.0</td>\n",
       "      <td>D</td>\n",
       "    </tr>\n",
       "  </tbody>\n",
       "</table>\n",
       "</div>"
      ],
      "text/plain": [
       "    N_Days             Drug      Age Sex Ascites Hepatomegaly Spiders Edema  \\\n",
       "id                                                                            \n",
       "0   2178.0  D-penicillamine  16374.0   F       N            N       N     N   \n",
       "1   2644.0  D-penicillamine  17774.0   F       N            N       N     N   \n",
       "2   3069.0          Placebo  17844.0   F       N            N       N     N   \n",
       "3   2216.0          Placebo  19221.0   F       N            Y       Y     N   \n",
       "4   2256.0          Placebo  21600.0   F       N            N       N     N   \n",
       "\n",
       "    Bilirubin  Cholesterol  Albumin  Copper  Alk_Phos    SGOT  Tryglicerides  \\\n",
       "id                                                                             \n",
       "0         0.5        263.0     3.20    43.0    1110.0  106.95           67.0   \n",
       "1         0.8        280.0     3.60    22.0     678.0   62.00           80.0   \n",
       "2         1.1        408.0     4.40    54.0    2108.0  142.60          137.0   \n",
       "3         0.8        252.0     3.70    36.0     843.0   55.80           56.0   \n",
       "4         4.7        348.0     3.06   464.0     961.0  120.90          146.0   \n",
       "\n",
       "    Platelets  Prothrombin  Stage Status  \n",
       "id                                        \n",
       "0       430.0          9.6    3.0      C  \n",
       "1       427.0         13.0    3.0      C  \n",
       "2       203.0         10.6    3.0      C  \n",
       "3       336.0          9.6    4.0      C  \n",
       "4       298.0         11.0    2.0      D  "
      ]
     },
     "execution_count": 3,
     "metadata": {},
     "output_type": "execute_result"
    }
   ],
   "source": [
    "# modelni o'qish uchun dataset\n",
    "df_train = pd.read_csv(\"/kaggle/input/multiclassificationtask/train.csv\", index_col=0)  # asosiy dataframe\n",
    "df_train.head()"
   ]
  },
  {
   "cell_type": "code",
   "execution_count": 4,
   "id": "35899b47",
   "metadata": {
    "execution": {
     "iopub.execute_input": "2025-07-09T05:54:03.230734Z",
     "iopub.status.busy": "2025-07-09T05:54:03.230299Z",
     "iopub.status.idle": "2025-07-09T05:54:03.283615Z",
     "shell.execute_reply": "2025-07-09T05:54:03.282396Z"
    },
    "papermill": {
     "duration": 0.065418,
     "end_time": "2025-07-09T05:54:03.285490",
     "exception": false,
     "start_time": "2025-07-09T05:54:03.220072",
     "status": "completed"
    },
    "tags": []
   },
   "outputs": [
    {
     "data": {
      "text/plain": [
       "0"
      ]
     },
     "execution_count": 4,
     "metadata": {},
     "output_type": "execute_result"
    }
   ],
   "source": [
    "df_train_for_duplicates = pd.read_csv(\"/kaggle/input/multiclassificationtask/train.csv\") # duplicat qiymatlani topish uchun 'id' ustunini tekshiramiz\n",
    "df_train_for_duplicates['id'].duplicated().sum()"
   ]
  },
  {
   "cell_type": "markdown",
   "id": "f0675b82",
   "metadata": {
    "papermill": {
     "duration": 0.008705,
     "end_time": "2025-07-09T05:54:03.303778",
     "exception": false,
     "start_time": "2025-07-09T05:54:03.295073",
     "status": "completed"
    },
    "tags": []
   },
   "source": [
    "# Malumotlarga ishlov berish"
   ]
  },
  {
   "cell_type": "markdown",
   "id": "8280bb06",
   "metadata": {
    "execution": {
     "iopub.execute_input": "2025-07-08T04:42:08.795100Z",
     "iopub.status.busy": "2025-07-08T04:42:08.794016Z",
     "iopub.status.idle": "2025-07-08T04:42:08.799102Z",
     "shell.execute_reply": "2025-07-08T04:42:08.798094Z",
     "shell.execute_reply.started": "2025-07-08T04:42:08.795041Z"
    },
    "papermill": {
     "duration": 0.008688,
     "end_time": "2025-07-09T05:54:03.321521",
     "exception": false,
     "start_time": "2025-07-09T05:54:03.312833",
     "status": "completed"
    },
    "tags": []
   },
   "source": [
    "## Data analysis and preprocessing"
   ]
  },
  {
   "cell_type": "code",
   "execution_count": 5,
   "id": "6f1ff68f",
   "metadata": {
    "execution": {
     "iopub.execute_input": "2025-07-09T05:54:03.342161Z",
     "iopub.status.busy": "2025-07-09T05:54:03.340767Z",
     "iopub.status.idle": "2025-07-09T05:54:03.348029Z",
     "shell.execute_reply": "2025-07-09T05:54:03.346714Z"
    },
    "papermill": {
     "duration": 0.019573,
     "end_time": "2025-07-09T05:54:03.350084",
     "exception": false,
     "start_time": "2025-07-09T05:54:03.330511",
     "status": "completed"
    },
    "tags": []
   },
   "outputs": [],
   "source": [
    "df = df_train.copy()"
   ]
  },
  {
   "cell_type": "code",
   "execution_count": 6,
   "id": "7171fb6a",
   "metadata": {
    "execution": {
     "iopub.execute_input": "2025-07-09T05:54:03.370950Z",
     "iopub.status.busy": "2025-07-09T05:54:03.370559Z",
     "iopub.status.idle": "2025-07-09T05:54:03.401307Z",
     "shell.execute_reply": "2025-07-09T05:54:03.399790Z"
    },
    "papermill": {
     "duration": 0.043848,
     "end_time": "2025-07-09T05:54:03.403436",
     "exception": false,
     "start_time": "2025-07-09T05:54:03.359588",
     "status": "completed"
    },
    "tags": []
   },
   "outputs": [
    {
     "name": "stdout",
     "output_type": "stream",
     "text": [
      "<class 'pandas.core.frame.DataFrame'>\n",
      "Index: 15000 entries, 0 to 14999\n",
      "Data columns (total 19 columns):\n",
      " #   Column         Non-Null Count  Dtype  \n",
      "---  ------         --------------  -----  \n",
      " 0   N_Days         15000 non-null  float64\n",
      " 1   Drug           8494 non-null   object \n",
      " 2   Age            15000 non-null  float64\n",
      " 3   Sex            15000 non-null  object \n",
      " 4   Ascites        8502 non-null   object \n",
      " 5   Hepatomegaly   8492 non-null   object \n",
      " 6   Spiders        8491 non-null   object \n",
      " 7   Edema          15000 non-null  object \n",
      " 8   Bilirubin      15000 non-null  float64\n",
      " 9   Cholesterol    6701 non-null   float64\n",
      " 10  Albumin        15000 non-null  float64\n",
      " 11  Copper         8399 non-null   float64\n",
      " 12  Alk_Phos       8488 non-null   float64\n",
      " 13  SGOT           8486 non-null   float64\n",
      " 14  Tryglicerides  6666 non-null   float64\n",
      " 15  Platelets      14436 non-null  float64\n",
      " 16  Prothrombin    14984 non-null  float64\n",
      " 17  Stage          15000 non-null  float64\n",
      " 18  Status         15000 non-null  object \n",
      "dtypes: float64(12), object(7)\n",
      "memory usage: 2.3+ MB\n"
     ]
    }
   ],
   "source": [
    "df.info()"
   ]
  },
  {
   "cell_type": "markdown",
   "id": "bbb71742",
   "metadata": {
    "papermill": {
     "duration": 0.0107,
     "end_time": "2025-07-09T05:54:03.424204",
     "exception": false,
     "start_time": "2025-07-09T05:54:03.413504",
     "status": "completed"
    },
    "tags": []
   },
   "source": [
    "*Bizni target ustunimiz `Status` ustuni*"
   ]
  },
  {
   "cell_type": "code",
   "execution_count": 7,
   "id": "39f73df7",
   "metadata": {
    "execution": {
     "iopub.execute_input": "2025-07-09T05:54:03.445634Z",
     "iopub.status.busy": "2025-07-09T05:54:03.445226Z",
     "iopub.status.idle": "2025-07-09T05:54:03.450651Z",
     "shell.execute_reply": "2025-07-09T05:54:03.449246Z"
    },
    "papermill": {
     "duration": 0.019105,
     "end_time": "2025-07-09T05:54:03.452780",
     "exception": false,
     "start_time": "2025-07-09T05:54:03.433675",
     "status": "completed"
    },
    "tags": []
   },
   "outputs": [],
   "source": [
    "# corr_matrix = df.corrwith(df[\"Status\"], numeric_only=True).abs().sort_values(ascending=False)\n",
    "# corr_matrix"
   ]
  },
  {
   "cell_type": "code",
   "execution_count": 8,
   "id": "3a5f31e2",
   "metadata": {
    "execution": {
     "iopub.execute_input": "2025-07-09T05:54:03.473340Z",
     "iopub.status.busy": "2025-07-09T05:54:03.472923Z",
     "iopub.status.idle": "2025-07-09T05:54:03.478002Z",
     "shell.execute_reply": "2025-07-09T05:54:03.476797Z"
    },
    "papermill": {
     "duration": 0.017257,
     "end_time": "2025-07-09T05:54:03.479886",
     "exception": false,
     "start_time": "2025-07-09T05:54:03.462629",
     "status": "completed"
    },
    "tags": []
   },
   "outputs": [],
   "source": [
    "# corr_matrix = df.corr().abs()\n",
    "# corr_matrix.style.background_gradient(cmap='YlOrRd')"
   ]
  },
  {
   "cell_type": "code",
   "execution_count": 9,
   "id": "625c289f",
   "metadata": {
    "execution": {
     "iopub.execute_input": "2025-07-09T05:54:03.499185Z",
     "iopub.status.busy": "2025-07-09T05:54:03.498786Z",
     "iopub.status.idle": "2025-07-09T05:54:03.549646Z",
     "shell.execute_reply": "2025-07-09T05:54:03.548412Z"
    },
    "papermill": {
     "duration": 0.062862,
     "end_time": "2025-07-09T05:54:03.551679",
     "exception": false,
     "start_time": "2025-07-09T05:54:03.488817",
     "status": "completed"
    },
    "tags": []
   },
   "outputs": [
    {
     "data": {
      "text/html": [
       "<div>\n",
       "<style scoped>\n",
       "    .dataframe tbody tr th:only-of-type {\n",
       "        vertical-align: middle;\n",
       "    }\n",
       "\n",
       "    .dataframe tbody tr th {\n",
       "        vertical-align: top;\n",
       "    }\n",
       "\n",
       "    .dataframe thead th {\n",
       "        text-align: right;\n",
       "    }\n",
       "</style>\n",
       "<table border=\"1\" class=\"dataframe\">\n",
       "  <thead>\n",
       "    <tr style=\"text-align: right;\">\n",
       "      <th></th>\n",
       "      <th>N_Days</th>\n",
       "      <th>Age</th>\n",
       "      <th>Bilirubin</th>\n",
       "      <th>Cholesterol</th>\n",
       "      <th>Albumin</th>\n",
       "      <th>Copper</th>\n",
       "      <th>Alk_Phos</th>\n",
       "      <th>SGOT</th>\n",
       "      <th>Tryglicerides</th>\n",
       "      <th>Platelets</th>\n",
       "      <th>Prothrombin</th>\n",
       "      <th>Stage</th>\n",
       "    </tr>\n",
       "  </thead>\n",
       "  <tbody>\n",
       "    <tr>\n",
       "      <th>count</th>\n",
       "      <td>15000.000000</td>\n",
       "      <td>15000.000000</td>\n",
       "      <td>15000.000000</td>\n",
       "      <td>6701.000000</td>\n",
       "      <td>15000.000000</td>\n",
       "      <td>8399.000000</td>\n",
       "      <td>8488.000000</td>\n",
       "      <td>8486.000000</td>\n",
       "      <td>6666.000000</td>\n",
       "      <td>14436.000000</td>\n",
       "      <td>14984.000000</td>\n",
       "      <td>15000.000000</td>\n",
       "    </tr>\n",
       "    <tr>\n",
       "      <th>mean</th>\n",
       "      <td>1971.721267</td>\n",
       "      <td>19298.658267</td>\n",
       "      <td>1.845433</td>\n",
       "      <td>329.177302</td>\n",
       "      <td>3.526103</td>\n",
       "      <td>75.647339</td>\n",
       "      <td>1618.598233</td>\n",
       "      <td>106.483631</td>\n",
       "      <td>111.387886</td>\n",
       "      <td>252.917983</td>\n",
       "      <td>10.626111</td>\n",
       "      <td>3.024800</td>\n",
       "    </tr>\n",
       "    <tr>\n",
       "      <th>std</th>\n",
       "      <td>1333.733576</td>\n",
       "      <td>3797.580260</td>\n",
       "      <td>2.674859</td>\n",
       "      <td>180.320802</td>\n",
       "      <td>0.372268</td>\n",
       "      <td>74.830472</td>\n",
       "      <td>1767.240078</td>\n",
       "      <td>57.206017</td>\n",
       "      <td>55.056133</td>\n",
       "      <td>94.049175</td>\n",
       "      <td>0.731416</td>\n",
       "      <td>0.871303</td>\n",
       "    </tr>\n",
       "    <tr>\n",
       "      <th>min</th>\n",
       "      <td>3.000000</td>\n",
       "      <td>400.000000</td>\n",
       "      <td>0.200000</td>\n",
       "      <td>120.000000</td>\n",
       "      <td>0.500000</td>\n",
       "      <td>2.000000</td>\n",
       "      <td>3.400000</td>\n",
       "      <td>0.900000</td>\n",
       "      <td>19.000000</td>\n",
       "      <td>32.000000</td>\n",
       "      <td>9.000000</td>\n",
       "      <td>1.000000</td>\n",
       "    </tr>\n",
       "    <tr>\n",
       "      <th>25%</th>\n",
       "      <td>1095.000000</td>\n",
       "      <td>16658.000000</td>\n",
       "      <td>0.600000</td>\n",
       "      <td>242.000000</td>\n",
       "      <td>3.290000</td>\n",
       "      <td>31.000000</td>\n",
       "      <td>720.000000</td>\n",
       "      <td>71.000000</td>\n",
       "      <td>80.000000</td>\n",
       "      <td>181.000000</td>\n",
       "      <td>10.100000</td>\n",
       "      <td>2.000000</td>\n",
       "    </tr>\n",
       "    <tr>\n",
       "      <th>50%</th>\n",
       "      <td>1786.000000</td>\n",
       "      <td>19544.000000</td>\n",
       "      <td>0.900000</td>\n",
       "      <td>280.000000</td>\n",
       "      <td>3.580000</td>\n",
       "      <td>52.000000</td>\n",
       "      <td>1072.000000</td>\n",
       "      <td>97.650000</td>\n",
       "      <td>99.000000</td>\n",
       "      <td>248.000000</td>\n",
       "      <td>10.600000</td>\n",
       "      <td>3.000000</td>\n",
       "    </tr>\n",
       "    <tr>\n",
       "      <th>75%</th>\n",
       "      <td>2635.000000</td>\n",
       "      <td>22347.000000</td>\n",
       "      <td>1.800000</td>\n",
       "      <td>364.000000</td>\n",
       "      <td>3.770000</td>\n",
       "      <td>89.000000</td>\n",
       "      <td>1664.000000</td>\n",
       "      <td>130.200000</td>\n",
       "      <td>133.000000</td>\n",
       "      <td>311.000000</td>\n",
       "      <td>11.000000</td>\n",
       "      <td>4.000000</td>\n",
       "    </tr>\n",
       "    <tr>\n",
       "      <th>max</th>\n",
       "      <td>38320.000000</td>\n",
       "      <td>129398.000000</td>\n",
       "      <td>28.000000</td>\n",
       "      <td>2078.000000</td>\n",
       "      <td>4.640000</td>\n",
       "      <td>662.000000</td>\n",
       "      <td>13862.400000</td>\n",
       "      <td>2653.000000</td>\n",
       "      <td>1669.000000</td>\n",
       "      <td>1024.000000</td>\n",
       "      <td>18.000000</td>\n",
       "      <td>4.000000</td>\n",
       "    </tr>\n",
       "  </tbody>\n",
       "</table>\n",
       "</div>"
      ],
      "text/plain": [
       "             N_Days            Age     Bilirubin  Cholesterol       Albumin  \\\n",
       "count  15000.000000   15000.000000  15000.000000  6701.000000  15000.000000   \n",
       "mean    1971.721267   19298.658267      1.845433   329.177302      3.526103   \n",
       "std     1333.733576    3797.580260      2.674859   180.320802      0.372268   \n",
       "min        3.000000     400.000000      0.200000   120.000000      0.500000   \n",
       "25%     1095.000000   16658.000000      0.600000   242.000000      3.290000   \n",
       "50%     1786.000000   19544.000000      0.900000   280.000000      3.580000   \n",
       "75%     2635.000000   22347.000000      1.800000   364.000000      3.770000   \n",
       "max    38320.000000  129398.000000     28.000000  2078.000000      4.640000   \n",
       "\n",
       "            Copper      Alk_Phos         SGOT  Tryglicerides     Platelets  \\\n",
       "count  8399.000000   8488.000000  8486.000000    6666.000000  14436.000000   \n",
       "mean     75.647339   1618.598233   106.483631     111.387886    252.917983   \n",
       "std      74.830472   1767.240078    57.206017      55.056133     94.049175   \n",
       "min       2.000000      3.400000     0.900000      19.000000     32.000000   \n",
       "25%      31.000000    720.000000    71.000000      80.000000    181.000000   \n",
       "50%      52.000000   1072.000000    97.650000      99.000000    248.000000   \n",
       "75%      89.000000   1664.000000   130.200000     133.000000    311.000000   \n",
       "max     662.000000  13862.400000  2653.000000    1669.000000   1024.000000   \n",
       "\n",
       "        Prothrombin         Stage  \n",
       "count  14984.000000  15000.000000  \n",
       "mean      10.626111      3.024800  \n",
       "std        0.731416      0.871303  \n",
       "min        9.000000      1.000000  \n",
       "25%       10.100000      2.000000  \n",
       "50%       10.600000      3.000000  \n",
       "75%       11.000000      4.000000  \n",
       "max       18.000000      4.000000  "
      ]
     },
     "execution_count": 9,
     "metadata": {},
     "output_type": "execute_result"
    }
   ],
   "source": [
    "df.describe()"
   ]
  },
  {
   "cell_type": "code",
   "execution_count": 10,
   "id": "bd4412bd",
   "metadata": {
    "execution": {
     "iopub.execute_input": "2025-07-09T05:54:03.572330Z",
     "iopub.status.busy": "2025-07-09T05:54:03.571900Z",
     "iopub.status.idle": "2025-07-09T05:54:03.594966Z",
     "shell.execute_reply": "2025-07-09T05:54:03.593870Z"
    },
    "papermill": {
     "duration": 0.035593,
     "end_time": "2025-07-09T05:54:03.596763",
     "exception": false,
     "start_time": "2025-07-09T05:54:03.561170",
     "status": "completed"
    },
    "tags": []
   },
   "outputs": [
    {
     "data": {
      "text/html": [
       "<div>\n",
       "<style scoped>\n",
       "    .dataframe tbody tr th:only-of-type {\n",
       "        vertical-align: middle;\n",
       "    }\n",
       "\n",
       "    .dataframe tbody tr th {\n",
       "        vertical-align: top;\n",
       "    }\n",
       "\n",
       "    .dataframe thead th {\n",
       "        text-align: right;\n",
       "    }\n",
       "</style>\n",
       "<table border=\"1\" class=\"dataframe\">\n",
       "  <thead>\n",
       "    <tr style=\"text-align: right;\">\n",
       "      <th></th>\n",
       "      <th>N_Days</th>\n",
       "      <th>Drug</th>\n",
       "      <th>Age</th>\n",
       "      <th>Sex</th>\n",
       "      <th>Ascites</th>\n",
       "      <th>Hepatomegaly</th>\n",
       "      <th>Spiders</th>\n",
       "      <th>Edema</th>\n",
       "      <th>Bilirubin</th>\n",
       "      <th>Cholesterol</th>\n",
       "      <th>Albumin</th>\n",
       "      <th>Copper</th>\n",
       "      <th>Alk_Phos</th>\n",
       "      <th>SGOT</th>\n",
       "      <th>Tryglicerides</th>\n",
       "      <th>Platelets</th>\n",
       "      <th>Prothrombin</th>\n",
       "      <th>Stage</th>\n",
       "      <th>Status</th>\n",
       "    </tr>\n",
       "    <tr>\n",
       "      <th>id</th>\n",
       "      <th></th>\n",
       "      <th></th>\n",
       "      <th></th>\n",
       "      <th></th>\n",
       "      <th></th>\n",
       "      <th></th>\n",
       "      <th></th>\n",
       "      <th></th>\n",
       "      <th></th>\n",
       "      <th></th>\n",
       "      <th></th>\n",
       "      <th></th>\n",
       "      <th></th>\n",
       "      <th></th>\n",
       "      <th></th>\n",
       "      <th></th>\n",
       "      <th></th>\n",
       "      <th></th>\n",
       "      <th></th>\n",
       "    </tr>\n",
       "  </thead>\n",
       "  <tbody>\n",
       "    <tr>\n",
       "      <th>0</th>\n",
       "      <td>2178.0</td>\n",
       "      <td>D-penicillamine</td>\n",
       "      <td>16374.0</td>\n",
       "      <td>F</td>\n",
       "      <td>N</td>\n",
       "      <td>N</td>\n",
       "      <td>N</td>\n",
       "      <td>N</td>\n",
       "      <td>0.5</td>\n",
       "      <td>263.0</td>\n",
       "      <td>3.20</td>\n",
       "      <td>43.0</td>\n",
       "      <td>1110.0</td>\n",
       "      <td>106.95</td>\n",
       "      <td>67.0</td>\n",
       "      <td>430.0</td>\n",
       "      <td>9.6</td>\n",
       "      <td>3.0</td>\n",
       "      <td>C</td>\n",
       "    </tr>\n",
       "    <tr>\n",
       "      <th>1</th>\n",
       "      <td>2644.0</td>\n",
       "      <td>D-penicillamine</td>\n",
       "      <td>17774.0</td>\n",
       "      <td>F</td>\n",
       "      <td>N</td>\n",
       "      <td>N</td>\n",
       "      <td>N</td>\n",
       "      <td>N</td>\n",
       "      <td>0.8</td>\n",
       "      <td>280.0</td>\n",
       "      <td>3.60</td>\n",
       "      <td>22.0</td>\n",
       "      <td>678.0</td>\n",
       "      <td>62.00</td>\n",
       "      <td>80.0</td>\n",
       "      <td>427.0</td>\n",
       "      <td>13.0</td>\n",
       "      <td>3.0</td>\n",
       "      <td>C</td>\n",
       "    </tr>\n",
       "    <tr>\n",
       "      <th>2</th>\n",
       "      <td>3069.0</td>\n",
       "      <td>Placebo</td>\n",
       "      <td>17844.0</td>\n",
       "      <td>F</td>\n",
       "      <td>N</td>\n",
       "      <td>N</td>\n",
       "      <td>N</td>\n",
       "      <td>N</td>\n",
       "      <td>1.1</td>\n",
       "      <td>408.0</td>\n",
       "      <td>4.40</td>\n",
       "      <td>54.0</td>\n",
       "      <td>2108.0</td>\n",
       "      <td>142.60</td>\n",
       "      <td>137.0</td>\n",
       "      <td>203.0</td>\n",
       "      <td>10.6</td>\n",
       "      <td>3.0</td>\n",
       "      <td>C</td>\n",
       "    </tr>\n",
       "    <tr>\n",
       "      <th>3</th>\n",
       "      <td>2216.0</td>\n",
       "      <td>Placebo</td>\n",
       "      <td>19221.0</td>\n",
       "      <td>F</td>\n",
       "      <td>N</td>\n",
       "      <td>Y</td>\n",
       "      <td>Y</td>\n",
       "      <td>N</td>\n",
       "      <td>0.8</td>\n",
       "      <td>252.0</td>\n",
       "      <td>3.70</td>\n",
       "      <td>36.0</td>\n",
       "      <td>843.0</td>\n",
       "      <td>55.80</td>\n",
       "      <td>56.0</td>\n",
       "      <td>336.0</td>\n",
       "      <td>9.6</td>\n",
       "      <td>4.0</td>\n",
       "      <td>C</td>\n",
       "    </tr>\n",
       "    <tr>\n",
       "      <th>4</th>\n",
       "      <td>2256.0</td>\n",
       "      <td>Placebo</td>\n",
       "      <td>21600.0</td>\n",
       "      <td>F</td>\n",
       "      <td>N</td>\n",
       "      <td>N</td>\n",
       "      <td>N</td>\n",
       "      <td>N</td>\n",
       "      <td>4.7</td>\n",
       "      <td>348.0</td>\n",
       "      <td>3.06</td>\n",
       "      <td>464.0</td>\n",
       "      <td>961.0</td>\n",
       "      <td>120.90</td>\n",
       "      <td>146.0</td>\n",
       "      <td>298.0</td>\n",
       "      <td>11.0</td>\n",
       "      <td>2.0</td>\n",
       "      <td>D</td>\n",
       "    </tr>\n",
       "  </tbody>\n",
       "</table>\n",
       "</div>"
      ],
      "text/plain": [
       "    N_Days             Drug      Age Sex Ascites Hepatomegaly Spiders Edema  \\\n",
       "id                                                                            \n",
       "0   2178.0  D-penicillamine  16374.0   F       N            N       N     N   \n",
       "1   2644.0  D-penicillamine  17774.0   F       N            N       N     N   \n",
       "2   3069.0          Placebo  17844.0   F       N            N       N     N   \n",
       "3   2216.0          Placebo  19221.0   F       N            Y       Y     N   \n",
       "4   2256.0          Placebo  21600.0   F       N            N       N     N   \n",
       "\n",
       "    Bilirubin  Cholesterol  Albumin  Copper  Alk_Phos    SGOT  Tryglicerides  \\\n",
       "id                                                                             \n",
       "0         0.5        263.0     3.20    43.0    1110.0  106.95           67.0   \n",
       "1         0.8        280.0     3.60    22.0     678.0   62.00           80.0   \n",
       "2         1.1        408.0     4.40    54.0    2108.0  142.60          137.0   \n",
       "3         0.8        252.0     3.70    36.0     843.0   55.80           56.0   \n",
       "4         4.7        348.0     3.06   464.0     961.0  120.90          146.0   \n",
       "\n",
       "    Platelets  Prothrombin  Stage Status  \n",
       "id                                        \n",
       "0       430.0          9.6    3.0      C  \n",
       "1       427.0         13.0    3.0      C  \n",
       "2       203.0         10.6    3.0      C  \n",
       "3       336.0          9.6    4.0      C  \n",
       "4       298.0         11.0    2.0      D  "
      ]
     },
     "execution_count": 10,
     "metadata": {},
     "output_type": "execute_result"
    }
   ],
   "source": [
    "df.head()"
   ]
  },
  {
   "cell_type": "markdown",
   "id": "78699093",
   "metadata": {
    "papermill": {
     "duration": 0.009604,
     "end_time": "2025-07-09T05:54:03.616218",
     "exception": false,
     "start_time": "2025-07-09T05:54:03.606614",
     "status": "completed"
    },
    "tags": []
   },
   "source": [
    "### Missing valuelarni to'ldirish"
   ]
  },
  {
   "cell_type": "code",
   "execution_count": 11,
   "id": "cf64abe4",
   "metadata": {
    "execution": {
     "iopub.execute_input": "2025-07-09T05:54:03.716201Z",
     "iopub.status.busy": "2025-07-09T05:54:03.715686Z",
     "iopub.status.idle": "2025-07-09T05:54:03.721899Z",
     "shell.execute_reply": "2025-07-09T05:54:03.720628Z"
    },
    "papermill": {
     "duration": 0.019462,
     "end_time": "2025-07-09T05:54:03.723809",
     "exception": false,
     "start_time": "2025-07-09T05:54:03.704347",
     "status": "completed"
    },
    "tags": []
   },
   "outputs": [],
   "source": [
    "numerical_features = [\n",
    "    'N_Days', 'Age', 'Bilirubin', 'Cholesterol', 'Albumin',\n",
    "    'Copper', 'Alk_Phos', 'SGOT', 'Tryglicerides', 'Platelets',\n",
    "    'Prothrombin', 'Stage'\n",
    "]\n",
    "\n",
    "categorical_features = [\n",
    "    'Drug', 'Sex', 'Ascites', 'Hepatomegaly',\n",
    "    'Spiders', 'Edema'\n",
    "]"
   ]
  },
  {
   "cell_type": "code",
   "execution_count": 12,
   "id": "816c9cb5",
   "metadata": {
    "execution": {
     "iopub.execute_input": "2025-07-09T05:54:03.745539Z",
     "iopub.status.busy": "2025-07-09T05:54:03.745071Z",
     "iopub.status.idle": "2025-07-09T05:54:03.779895Z",
     "shell.execute_reply": "2025-07-09T05:54:03.778844Z"
    },
    "papermill": {
     "duration": 0.048096,
     "end_time": "2025-07-09T05:54:03.781974",
     "exception": false,
     "start_time": "2025-07-09T05:54:03.733878",
     "status": "completed"
    },
    "tags": []
   },
   "outputs": [],
   "source": [
    "for col in numerical_features:\n",
    "    df[col] = df[col].fillna(df[col].mean())\n",
    "\n",
    "for col in categorical_features:\n",
    "    if df[col].mode().empty:\n",
    "        df[col] = df[col].fillna(\"Unknown\")\n",
    "    else:\n",
    "        df[col] = df[col].fillna(df[col].mode()[0])\n",
    "\n",
    "    "
   ]
  },
  {
   "cell_type": "code",
   "execution_count": 13,
   "id": "a24c453f",
   "metadata": {
    "execution": {
     "iopub.execute_input": "2025-07-09T05:54:03.803374Z",
     "iopub.status.busy": "2025-07-09T05:54:03.802941Z",
     "iopub.status.idle": "2025-07-09T05:54:03.823546Z",
     "shell.execute_reply": "2025-07-09T05:54:03.821814Z"
    },
    "papermill": {
     "duration": 0.03407,
     "end_time": "2025-07-09T05:54:03.826038",
     "exception": false,
     "start_time": "2025-07-09T05:54:03.791968",
     "status": "completed"
    },
    "tags": []
   },
   "outputs": [
    {
     "name": "stdout",
     "output_type": "stream",
     "text": [
      "<class 'pandas.core.frame.DataFrame'>\n",
      "Index: 15000 entries, 0 to 14999\n",
      "Data columns (total 19 columns):\n",
      " #   Column         Non-Null Count  Dtype  \n",
      "---  ------         --------------  -----  \n",
      " 0   N_Days         15000 non-null  float64\n",
      " 1   Drug           15000 non-null  object \n",
      " 2   Age            15000 non-null  float64\n",
      " 3   Sex            15000 non-null  object \n",
      " 4   Ascites        15000 non-null  object \n",
      " 5   Hepatomegaly   15000 non-null  object \n",
      " 6   Spiders        15000 non-null  object \n",
      " 7   Edema          15000 non-null  object \n",
      " 8   Bilirubin      15000 non-null  float64\n",
      " 9   Cholesterol    15000 non-null  float64\n",
      " 10  Albumin        15000 non-null  float64\n",
      " 11  Copper         15000 non-null  float64\n",
      " 12  Alk_Phos       15000 non-null  float64\n",
      " 13  SGOT           15000 non-null  float64\n",
      " 14  Tryglicerides  15000 non-null  float64\n",
      " 15  Platelets      15000 non-null  float64\n",
      " 16  Prothrombin    15000 non-null  float64\n",
      " 17  Stage          15000 non-null  float64\n",
      " 18  Status         15000 non-null  object \n",
      "dtypes: float64(12), object(7)\n",
      "memory usage: 2.3+ MB\n"
     ]
    }
   ],
   "source": [
    "df.info()"
   ]
  },
  {
   "cell_type": "markdown",
   "id": "26fc2d14",
   "metadata": {
    "papermill": {
     "duration": 0.009837,
     "end_time": "2025-07-09T05:54:03.845651",
     "exception": false,
     "start_time": "2025-07-09T05:54:03.835814",
     "status": "completed"
    },
    "tags": []
   },
   "source": [
    "## Visualization"
   ]
  },
  {
   "cell_type": "code",
   "execution_count": 14,
   "id": "08416c92",
   "metadata": {
    "execution": {
     "iopub.execute_input": "2025-07-09T05:54:03.866233Z",
     "iopub.status.busy": "2025-07-09T05:54:03.865829Z",
     "iopub.status.idle": "2025-07-09T05:54:03.875408Z",
     "shell.execute_reply": "2025-07-09T05:54:03.874233Z"
    },
    "papermill": {
     "duration": 0.022204,
     "end_time": "2025-07-09T05:54:03.877326",
     "exception": false,
     "start_time": "2025-07-09T05:54:03.855122",
     "status": "completed"
    },
    "tags": []
   },
   "outputs": [
    {
     "data": {
      "text/plain": [
       "Status\n",
       "C     10053\n",
       "D      4565\n",
       "CL      381\n",
       "Y         1\n",
       "Name: count, dtype: int64"
      ]
     },
     "execution_count": 14,
     "metadata": {},
     "output_type": "execute_result"
    }
   ],
   "source": [
    "df[\"Status\"].value_counts()"
   ]
  },
  {
   "cell_type": "code",
   "execution_count": 15,
   "id": "c41a7b73",
   "metadata": {
    "execution": {
     "iopub.execute_input": "2025-07-09T05:54:03.898239Z",
     "iopub.status.busy": "2025-07-09T05:54:03.897798Z",
     "iopub.status.idle": "2025-07-09T05:54:03.909667Z",
     "shell.execute_reply": "2025-07-09T05:54:03.908125Z"
    },
    "papermill": {
     "duration": 0.025389,
     "end_time": "2025-07-09T05:54:03.912357",
     "exception": false,
     "start_time": "2025-07-09T05:54:03.886968",
     "status": "completed"
    },
    "tags": []
   },
   "outputs": [
    {
     "data": {
      "text/plain": [
       "Status\n",
       "C     67.020000\n",
       "D     30.433333\n",
       "CL     2.540000\n",
       "Y      0.006667\n",
       "Name: count, dtype: float64"
      ]
     },
     "execution_count": 15,
     "metadata": {},
     "output_type": "execute_result"
    }
   ],
   "source": [
    "status_rate = df[\"Status\"].value_counts()/len(df)*100\n",
    "status_rate"
   ]
  },
  {
   "cell_type": "code",
   "execution_count": 16,
   "id": "02e04fe7",
   "metadata": {
    "execution": {
     "iopub.execute_input": "2025-07-09T05:54:03.935584Z",
     "iopub.status.busy": "2025-07-09T05:54:03.934631Z",
     "iopub.status.idle": "2025-07-09T05:54:03.951333Z",
     "shell.execute_reply": "2025-07-09T05:54:03.950372Z"
    },
    "papermill": {
     "duration": 0.030128,
     "end_time": "2025-07-09T05:54:03.953362",
     "exception": false,
     "start_time": "2025-07-09T05:54:03.923234",
     "status": "completed"
    },
    "tags": []
   },
   "outputs": [],
   "source": [
    "# Status ustunida Y qiymati nisbatan kamligi uchun tashlab yuboramiz\n",
    "df = df[df[\"Status\"] != \"Y\"] "
   ]
  },
  {
   "cell_type": "code",
   "execution_count": 17,
   "id": "e0ae03e1",
   "metadata": {
    "execution": {
     "iopub.execute_input": "2025-07-09T05:54:03.976165Z",
     "iopub.status.busy": "2025-07-09T05:54:03.975743Z",
     "iopub.status.idle": "2025-07-09T05:54:03.983810Z",
     "shell.execute_reply": "2025-07-09T05:54:03.982681Z"
    },
    "papermill": {
     "duration": 0.022076,
     "end_time": "2025-07-09T05:54:03.985762",
     "exception": false,
     "start_time": "2025-07-09T05:54:03.963686",
     "status": "completed"
    },
    "tags": []
   },
   "outputs": [],
   "source": [
    "replaceable = {\"C\":0, \"D\":1, 'CL':2}\n",
    "df[\"Status\"] = df[\"Status\"].map(replaceable)"
   ]
  },
  {
   "cell_type": "code",
   "execution_count": 18,
   "id": "7b5bf054",
   "metadata": {
    "execution": {
     "iopub.execute_input": "2025-07-09T05:54:04.009498Z",
     "iopub.status.busy": "2025-07-09T05:54:04.008484Z",
     "iopub.status.idle": "2025-07-09T05:54:04.019561Z",
     "shell.execute_reply": "2025-07-09T05:54:04.018616Z"
    },
    "papermill": {
     "duration": 0.02483,
     "end_time": "2025-07-09T05:54:04.021149",
     "exception": false,
     "start_time": "2025-07-09T05:54:03.996319",
     "status": "completed"
    },
    "tags": []
   },
   "outputs": [
    {
     "data": {
      "text/plain": [
       "Status\n",
       "0    67.024468\n",
       "1    30.435362\n",
       "2     2.540169\n",
       "Name: count, dtype: float64"
      ]
     },
     "execution_count": 18,
     "metadata": {},
     "output_type": "execute_result"
    }
   ],
   "source": [
    "status_rate = df[\"Status\"].value_counts()/len(df)*100\n",
    "status_rate"
   ]
  },
  {
   "cell_type": "code",
   "execution_count": 19,
   "id": "42d1812c",
   "metadata": {
    "execution": {
     "iopub.execute_input": "2025-07-09T05:54:04.045268Z",
     "iopub.status.busy": "2025-07-09T05:54:04.044797Z",
     "iopub.status.idle": "2025-07-09T05:54:04.423850Z",
     "shell.execute_reply": "2025-07-09T05:54:04.422848Z"
    },
    "papermill": {
     "duration": 0.393006,
     "end_time": "2025-07-09T05:54:04.425615",
     "exception": false,
     "start_time": "2025-07-09T05:54:04.032609",
     "status": "completed"
    },
    "tags": []
   },
   "outputs": [
    {
     "data": {
      "image/png": "[encoded data removed]",
      "text/plain": [
       "<Figure size 1000x600 with 2 Axes>"
      ]
     },
     "metadata": {},
     "output_type": "display_data"
    }
   ],
   "source": [
    "classes = df[\"Status\"].value_counts()\n",
    "\n",
    "fig, ax = plt.subplots(1,2, figsize=(10,6))\n",
    "\n",
    "# 1-grafig Bar plot\n",
    "ax[0].bar(classes.index, classes.values, color='skyblue')\n",
    "ax[0].set_xlabel(\"Holat\")\n",
    "ax[0].set_ylabel(\"Soni\")\n",
    "\n",
    "# 2-grafig Pie chart\n",
    "ax=ax[1].pie(classes.values, labels=[\"C\", \"D\", \"CL\"], autopct='%1.1f%%')\n",
    "\n",
    "plt.suptitle(\"Status bo'yicha taqsimot\", font=\"Bold\")\n",
    "plt.show()"
   ]
  },
  {
   "cell_type": "markdown",
   "id": "a585ace0",
   "metadata": {
    "papermill": {
     "duration": 0.010753,
     "end_time": "2025-07-09T05:54:04.447644",
     "exception": false,
     "start_time": "2025-07-09T05:54:04.436891",
     "status": "completed"
    },
    "tags": []
   },
   "source": [
    "### Visualization all numeric columns"
   ]
  },
  {
   "cell_type": "code",
   "execution_count": 20,
   "id": "c6cf8f26",
   "metadata": {
    "execution": {
     "iopub.execute_input": "2025-07-09T05:54:04.471264Z",
     "iopub.status.busy": "2025-07-09T05:54:04.470843Z",
     "iopub.status.idle": "2025-07-09T05:54:07.644611Z",
     "shell.execute_reply": "2025-07-09T05:54:07.643578Z"
    },
    "papermill": {
     "duration": 3.187929,
     "end_time": "2025-07-09T05:54:07.646296",
     "exception": false,
     "start_time": "2025-07-09T05:54:04.458367",
     "status": "completed"
    },
    "tags": []
   },
   "outputs": [
    {
     "data": {
      "image/png": "[encoded data removed]",
      "text/plain": [
       "<Figure size 1000x600 with 1 Axes>"
      ]
     },
     "metadata": {},
     "output_type": "display_data"
    },
    {
     "data": {
      "image/png": "[encoded data removed]",
      "text/plain": [
       "<Figure size 1000x600 with 1 Axes>"
      ]
     },
     "metadata": {},
     "output_type": "display_data"
    },
    {
     "data": {
      "image/png": "[encoded data removed]",
      "text/plain": [
       "<Figure size 1000x600 with 1 Axes>"
      ]
     },
     "metadata": {},
     "output_type": "display_data"
    },
    {
     "data": {
      "image/png": "[encoded data removed]",
      "text/plain": [
       "<Figure size 1000x600 with 1 Axes>"
      ]
     },
     "metadata": {},
     "output_type": "display_data"
    },
    {
     "data": {
      "image/png": "[encoded data removed]",
      "text/plain": [
       "<Figure size 1000x600 with 1 Axes>"
      ]
     },
     "metadata": {},
     "output_type": "display_data"
    },
    {
     "data": {
      "image/png": "[encoded data removed]",
      "text/plain": [
       "<Figure size 1000x600 with 1 Axes>"
      ]
     },
     "metadata": {},
     "output_type": "display_data"
    },
    {
     "data": {
      "image/png": "[encoded data removed]",
      "text/plain": [
       "<Figure size 1000x600 with 1 Axes>"
      ]
     },
     "metadata": {},
     "output_type": "display_data"
    },
    {
     "data": {
      "image/png": "[encoded data removed]",
      "text/plain": [
       "<Figure size 1000x600 with 1 Axes>"
      ]
     },
     "metadata": {},
     "output_type": "display_data"
    },
    {
     "data": {
      "image/png": "[encoded data removed]",
      "text/plain": [
       "<Figure size 1000x600 with 1 Axes>"
      ]
     },
     "metadata": {},
     "output_type": "display_data"
    },
    {
     "data": {
      "image/png": "[encoded data removed]",
      "text/plain": [
       "<Figure size 1000x600 with 1 Axes>"
      ]
     },
     "metadata": {},
     "output_type": "display_data"
    },
    {
     "data": {
      "image/png": "[encoded data removed]",
      "text/plain": [
       "<Figure size 1000x600 with 1 Axes>"
      ]
     },
     "metadata": {},
     "output_type": "display_data"
    },
    {
     "data": {
      "image/png": "[encoded data removed]",
      "text/plain": [
       "<Figure size 1000x600 with 1 Axes>"
      ]
     },
     "metadata": {},
     "output_type": "display_data"
    }
   ],
   "source": [
    "for col in numerical_features:\n",
    "    plt.figure(figsize=(10, 6))\n",
    "    # Faqat sonli qiymatlar qoldiramiz (NaN va stringlarni tashlab)\n",
    "    clean_values = pd.to_numeric(df[col], errors='coerce').dropna()\n",
    "    plt.hist(clean_values, bins=50)\n",
    "    plt.title(f\"Histogram of {col}\")\n",
    "    plt.xlabel(col)\n",
    "    plt.ylabel(\"Soni\")\n",
    "    plt.grid(True)\n",
    "    plt.show()\n",
    "\n"
   ]
  },
  {
   "cell_type": "markdown",
   "id": "77fcb79b",
   "metadata": {
    "papermill": {
     "duration": 0.01746,
     "end_time": "2025-07-09T05:54:07.681965",
     "exception": false,
     "start_time": "2025-07-09T05:54:07.664505",
     "status": "completed"
    },
    "tags": []
   },
   "source": [
    "### Visualization all categorical columns"
   ]
  },
  {
   "cell_type": "code",
   "execution_count": 21,
   "id": "7c5d169e",
   "metadata": {
    "execution": {
     "iopub.execute_input": "2025-07-09T05:54:07.717972Z",
     "iopub.status.busy": "2025-07-09T05:54:07.717523Z",
     "iopub.status.idle": "2025-07-09T05:54:08.932283Z",
     "shell.execute_reply": "2025-07-09T05:54:08.931269Z"
    },
    "papermill": {
     "duration": 1.2352,
     "end_time": "2025-07-09T05:54:08.934120",
     "exception": false,
     "start_time": "2025-07-09T05:54:07.698920",
     "status": "completed"
    },
    "tags": []
   },
   "outputs": [
    {
     "data": {
      "image/png": "[encoded data removed]",
      "text/plain": [
       "<Figure size 1000x600 with 2 Axes>"
      ]
     },
     "metadata": {},
     "output_type": "display_data"
    },
    {
     "data": {
      "image/png": "[encoded data removed]",
      "text/plain": [
       "<Figure size 1000x600 with 2 Axes>"
      ]
     },
     "metadata": {},
     "output_type": "display_data"
    },
    {
     "data": {
      "image/png": "[encoded data removed]",
      "text/plain": [
       "<Figure size 1000x600 with 2 Axes>"
      ]
     },
     "metadata": {},
     "output_type": "display_data"
    },
    {
     "data": {
      "image/png": "[encoded data removed]",
      "text/plain": [
       "<Figure size 1000x600 with 2 Axes>"
      ]
     },
     "metadata": {},
     "output_type": "display_data"
    },
    {
     "data": {
      "image/png": "[encoded data removed]",
      "text/plain": [
       "<Figure size 1000x600 with 2 Axes>"
      ]
     },
     "metadata": {},
     "output_type": "display_data"
    },
    {
     "data": {
      "image/png": "[encoded data removed]",
      "text/plain": [
       "<Figure size 1000x600 with 2 Axes>"
      ]
     },
     "metadata": {},
     "output_type": "display_data"
    }
   ],
   "source": [
    "for col in categorical_features:\n",
    "    if col == \"Sex\":\n",
    "        classes = df[col].value_counts()\n",
    "        \n",
    "        # 1-graph Bar plot\n",
    "        fig, ax = plt.subplots(1,2, figsize=(10, 6))\n",
    "        ax[0].bar(classes.index, classes.values, color=\"skyblue\")\n",
    "        ax[0].set_xlabel(\"Jins\")\n",
    "        ax[0].set_ylabel('Soni')\n",
    "    \n",
    "        # 2-graph Pie chart\n",
    "        ax[1].pie(classes.values, labels=classes.index, autopct=\"%1.2f%%\")\n",
    "    \n",
    "        plt.suptitle(\"Insonlarni jinsi bo'yicha taqsimot\")\n",
    "        \n",
    "    \n",
    "    else: \n",
    "        classes = df[col].value_counts()\n",
    "        \n",
    "        # 1-graph Bar plot\n",
    "        fig, ax = plt.subplots(1,2, figsize=(10,6))\n",
    "        ax[0].bar(classes.index, classes.values, color=\"skyblue\")\n",
    "        ax[0].set_xlabel(col)\n",
    "        ax[0].set_ylabel('Soni')\n",
    "    \n",
    "        # 2-graph Pie chart\n",
    "        ax[1].pie(classes.values, labels=classes.index, autopct=\"%1.2f%%\")\n",
    "    \n",
    "        plt.suptitle(f\"{col} ustuni taqsimoti\")\n",
    "        plt.show()\n",
    "        categorical_features = ['Drug', 'Sex', 'Ascites', 'Hepatomegaly', 'Spiders',\n",
    "                        'Edema', ]\n",
    "  "
   ]
  },
  {
   "cell_type": "markdown",
   "id": "188441e0",
   "metadata": {
    "papermill": {
     "duration": 0.021439,
     "end_time": "2025-07-09T05:54:08.977941",
     "exception": false,
     "start_time": "2025-07-09T05:54:08.956502",
     "status": "completed"
    },
    "tags": []
   },
   "source": [
    "# ML"
   ]
  },
  {
   "cell_type": "markdown",
   "id": "7f698006",
   "metadata": {
    "papermill": {
     "duration": 0.02119,
     "end_time": "2025-07-09T05:54:09.020124",
     "exception": false,
     "start_time": "2025-07-09T05:54:08.998934",
     "status": "completed"
    },
    "tags": []
   },
   "source": [
    "## MLga tayyorgarlik"
   ]
  },
  {
   "cell_type": "code",
   "execution_count": 22,
   "id": "9407b1b6",
   "metadata": {
    "execution": {
     "iopub.execute_input": "2025-07-09T05:54:09.063351Z",
     "iopub.status.busy": "2025-07-09T05:54:09.062904Z",
     "iopub.status.idle": "2025-07-09T05:54:09.119213Z",
     "shell.execute_reply": "2025-07-09T05:54:09.118109Z"
    },
    "papermill": {
     "duration": 0.079957,
     "end_time": "2025-07-09T05:54:09.121102",
     "exception": false,
     "start_time": "2025-07-09T05:54:09.041145",
     "status": "completed"
    },
    "tags": []
   },
   "outputs": [
    {
     "data": {
      "text/html": [
       "<div>\n",
       "<style scoped>\n",
       "    .dataframe tbody tr th:only-of-type {\n",
       "        vertical-align: middle;\n",
       "    }\n",
       "\n",
       "    .dataframe tbody tr th {\n",
       "        vertical-align: top;\n",
       "    }\n",
       "\n",
       "    .dataframe thead th {\n",
       "        text-align: right;\n",
       "    }\n",
       "</style>\n",
       "<table border=\"1\" class=\"dataframe\">\n",
       "  <thead>\n",
       "    <tr style=\"text-align: right;\">\n",
       "      <th></th>\n",
       "      <th>N_Days</th>\n",
       "      <th>Drug</th>\n",
       "      <th>Age</th>\n",
       "      <th>Sex</th>\n",
       "      <th>Ascites</th>\n",
       "      <th>Hepatomegaly</th>\n",
       "      <th>Spiders</th>\n",
       "      <th>Edema</th>\n",
       "      <th>Bilirubin</th>\n",
       "      <th>Cholesterol</th>\n",
       "      <th>Albumin</th>\n",
       "      <th>Copper</th>\n",
       "      <th>Alk_Phos</th>\n",
       "      <th>SGOT</th>\n",
       "      <th>Tryglicerides</th>\n",
       "      <th>Platelets</th>\n",
       "      <th>Prothrombin</th>\n",
       "      <th>Stage</th>\n",
       "      <th>Status</th>\n",
       "    </tr>\n",
       "    <tr>\n",
       "      <th>id</th>\n",
       "      <th></th>\n",
       "      <th></th>\n",
       "      <th></th>\n",
       "      <th></th>\n",
       "      <th></th>\n",
       "      <th></th>\n",
       "      <th></th>\n",
       "      <th></th>\n",
       "      <th></th>\n",
       "      <th></th>\n",
       "      <th></th>\n",
       "      <th></th>\n",
       "      <th></th>\n",
       "      <th></th>\n",
       "      <th></th>\n",
       "      <th></th>\n",
       "      <th></th>\n",
       "      <th></th>\n",
       "      <th></th>\n",
       "    </tr>\n",
       "  </thead>\n",
       "  <tbody>\n",
       "    <tr>\n",
       "      <th>0</th>\n",
       "      <td>0.154784</td>\n",
       "      <td>D-penicillamine</td>\n",
       "      <td>-0.770118</td>\n",
       "      <td>F</td>\n",
       "      <td>N</td>\n",
       "      <td>N</td>\n",
       "      <td>N</td>\n",
       "      <td>N</td>\n",
       "      <td>-0.503027</td>\n",
       "      <td>-0.549146</td>\n",
       "      <td>-0.876255</td>\n",
       "      <td>-0.583162</td>\n",
       "      <td>-0.382608</td>\n",
       "      <td>0.010787</td>\n",
       "      <td>-1.209685</td>\n",
       "      <td>1.919298</td>\n",
       "      <td>-1.403936</td>\n",
       "      <td>-0.028390</td>\n",
       "      <td>0</td>\n",
       "    </tr>\n",
       "    <tr>\n",
       "      <th>1</th>\n",
       "      <td>0.504209</td>\n",
       "      <td>D-penicillamine</td>\n",
       "      <td>-0.401461</td>\n",
       "      <td>F</td>\n",
       "      <td>N</td>\n",
       "      <td>N</td>\n",
       "      <td>N</td>\n",
       "      <td>N</td>\n",
       "      <td>-0.390871</td>\n",
       "      <td>-0.408087</td>\n",
       "      <td>0.198395</td>\n",
       "      <td>-0.958224</td>\n",
       "      <td>-0.707578</td>\n",
       "      <td>-1.033938</td>\n",
       "      <td>-0.855435</td>\n",
       "      <td>1.886781</td>\n",
       "      <td>3.248698</td>\n",
       "      <td>-0.028390</td>\n",
       "      <td>0</td>\n",
       "    </tr>\n",
       "    <tr>\n",
       "      <th>2</th>\n",
       "      <td>0.822891</td>\n",
       "      <td>Placebo</td>\n",
       "      <td>-0.383028</td>\n",
       "      <td>F</td>\n",
       "      <td>N</td>\n",
       "      <td>N</td>\n",
       "      <td>N</td>\n",
       "      <td>N</td>\n",
       "      <td>-0.278714</td>\n",
       "      <td>0.654004</td>\n",
       "      <td>2.347696</td>\n",
       "      <td>-0.386701</td>\n",
       "      <td>0.368133</td>\n",
       "      <td>0.839362</td>\n",
       "      <td>0.697818</td>\n",
       "      <td>-0.541124</td>\n",
       "      <td>-0.035515</td>\n",
       "      <td>-0.028390</td>\n",
       "      <td>0</td>\n",
       "    </tr>\n",
       "    <tr>\n",
       "      <th>3</th>\n",
       "      <td>0.183278</td>\n",
       "      <td>Placebo</td>\n",
       "      <td>-0.020427</td>\n",
       "      <td>F</td>\n",
       "      <td>N</td>\n",
       "      <td>Y</td>\n",
       "      <td>Y</td>\n",
       "      <td>N</td>\n",
       "      <td>-0.390871</td>\n",
       "      <td>-0.640420</td>\n",
       "      <td>0.467058</td>\n",
       "      <td>-0.708183</td>\n",
       "      <td>-0.583457</td>\n",
       "      <td>-1.178038</td>\n",
       "      <td>-1.509436</td>\n",
       "      <td>0.900445</td>\n",
       "      <td>-1.403936</td>\n",
       "      <td>1.119365</td>\n",
       "      <td>0</td>\n",
       "    </tr>\n",
       "    <tr>\n",
       "      <th>4</th>\n",
       "      <td>0.213271</td>\n",
       "      <td>Placebo</td>\n",
       "      <td>0.606026</td>\n",
       "      <td>F</td>\n",
       "      <td>N</td>\n",
       "      <td>N</td>\n",
       "      <td>N</td>\n",
       "      <td>N</td>\n",
       "      <td>1.067161</td>\n",
       "      <td>0.156149</td>\n",
       "      <td>-1.252382</td>\n",
       "      <td>6.935943</td>\n",
       "      <td>-0.494693</td>\n",
       "      <td>0.335012</td>\n",
       "      <td>0.943068</td>\n",
       "      <td>0.488568</td>\n",
       "      <td>0.511854</td>\n",
       "      <td>-1.176144</td>\n",
       "      <td>1</td>\n",
       "    </tr>\n",
       "  </tbody>\n",
       "</table>\n",
       "</div>"
      ],
      "text/plain": [
       "      N_Days             Drug       Age Sex Ascites Hepatomegaly Spiders  \\\n",
       "id                                                                         \n",
       "0   0.154784  D-penicillamine -0.770118   F       N            N       N   \n",
       "1   0.504209  D-penicillamine -0.401461   F       N            N       N   \n",
       "2   0.822891          Placebo -0.383028   F       N            N       N   \n",
       "3   0.183278          Placebo -0.020427   F       N            Y       Y   \n",
       "4   0.213271          Placebo  0.606026   F       N            N       N   \n",
       "\n",
       "   Edema  Bilirubin  Cholesterol   Albumin    Copper  Alk_Phos      SGOT  \\\n",
       "id                                                                         \n",
       "0      N  -0.503027    -0.549146 -0.876255 -0.583162 -0.382608  0.010787   \n",
       "1      N  -0.390871    -0.408087  0.198395 -0.958224 -0.707578 -1.033938   \n",
       "2      N  -0.278714     0.654004  2.347696 -0.386701  0.368133  0.839362   \n",
       "3      N  -0.390871    -0.640420  0.467058 -0.708183 -0.583457 -1.178038   \n",
       "4      N   1.067161     0.156149 -1.252382  6.935943 -0.494693  0.335012   \n",
       "\n",
       "    Tryglicerides  Platelets  Prothrombin     Stage  Status  \n",
       "id                                                           \n",
       "0       -1.209685   1.919298    -1.403936 -0.028390       0  \n",
       "1       -0.855435   1.886781     3.248698 -0.028390       0  \n",
       "2        0.697818  -0.541124    -0.035515 -0.028390       0  \n",
       "3       -1.509436   0.900445    -1.403936  1.119365       0  \n",
       "4        0.943068   0.488568     0.511854 -1.176144       1  "
      ]
     },
     "execution_count": 22,
     "metadata": {},
     "output_type": "execute_result"
    }
   ],
   "source": [
    "scaler = StandardScaler()\n",
    "\n",
    "numerical_features = [\n",
    "    'N_Days', 'Age', 'Bilirubin', 'Cholesterol', 'Albumin',\n",
    "    'Copper', 'Alk_Phos', 'SGOT', 'Tryglicerides', 'Platelets',\n",
    "    'Prothrombin', 'Stage'\n",
    "]\n",
    "df[numerical_features] = scaler.fit_transform(df[numerical_features])\n",
    "df.head()\n"
   ]
  },
  {
   "cell_type": "code",
   "execution_count": 23,
   "id": "8f80e5d1",
   "metadata": {
    "execution": {
     "iopub.execute_input": "2025-07-09T05:54:09.165720Z",
     "iopub.status.busy": "2025-07-09T05:54:09.165299Z",
     "iopub.status.idle": "2025-07-09T05:54:09.213633Z",
     "shell.execute_reply": "2025-07-09T05:54:09.212501Z"
    },
    "papermill": {
     "duration": 0.073531,
     "end_time": "2025-07-09T05:54:09.215922",
     "exception": false,
     "start_time": "2025-07-09T05:54:09.142391",
     "status": "completed"
    },
    "tags": []
   },
   "outputs": [
    {
     "data": {
      "text/html": [
       "<div>\n",
       "<style scoped>\n",
       "    .dataframe tbody tr th:only-of-type {\n",
       "        vertical-align: middle;\n",
       "    }\n",
       "\n",
       "    .dataframe tbody tr th {\n",
       "        vertical-align: top;\n",
       "    }\n",
       "\n",
       "    .dataframe thead th {\n",
       "        text-align: right;\n",
       "    }\n",
       "</style>\n",
       "<table border=\"1\" class=\"dataframe\">\n",
       "  <thead>\n",
       "    <tr style=\"text-align: right;\">\n",
       "      <th></th>\n",
       "      <th>N_Days</th>\n",
       "      <th>Drug</th>\n",
       "      <th>Age</th>\n",
       "      <th>Sex</th>\n",
       "      <th>Ascites</th>\n",
       "      <th>Hepatomegaly</th>\n",
       "      <th>Spiders</th>\n",
       "      <th>Edema</th>\n",
       "      <th>Bilirubin</th>\n",
       "      <th>Cholesterol</th>\n",
       "      <th>Albumin</th>\n",
       "      <th>Copper</th>\n",
       "      <th>Alk_Phos</th>\n",
       "      <th>SGOT</th>\n",
       "      <th>Tryglicerides</th>\n",
       "      <th>Platelets</th>\n",
       "      <th>Prothrombin</th>\n",
       "      <th>Stage</th>\n",
       "      <th>Status</th>\n",
       "    </tr>\n",
       "    <tr>\n",
       "      <th>id</th>\n",
       "      <th></th>\n",
       "      <th></th>\n",
       "      <th></th>\n",
       "      <th></th>\n",
       "      <th></th>\n",
       "      <th></th>\n",
       "      <th></th>\n",
       "      <th></th>\n",
       "      <th></th>\n",
       "      <th></th>\n",
       "      <th></th>\n",
       "      <th></th>\n",
       "      <th></th>\n",
       "      <th></th>\n",
       "      <th></th>\n",
       "      <th></th>\n",
       "      <th></th>\n",
       "      <th></th>\n",
       "      <th></th>\n",
       "    </tr>\n",
       "  </thead>\n",
       "  <tbody>\n",
       "    <tr>\n",
       "      <th>0</th>\n",
       "      <td>0.154784</td>\n",
       "      <td>0.0</td>\n",
       "      <td>-0.770118</td>\n",
       "      <td>0.0</td>\n",
       "      <td>0.0</td>\n",
       "      <td>0.0</td>\n",
       "      <td>0.0</td>\n",
       "      <td>0.0</td>\n",
       "      <td>-0.503027</td>\n",
       "      <td>-0.549146</td>\n",
       "      <td>-0.876255</td>\n",
       "      <td>-0.583162</td>\n",
       "      <td>-0.382608</td>\n",
       "      <td>0.010787</td>\n",
       "      <td>-1.209685</td>\n",
       "      <td>1.919298</td>\n",
       "      <td>-1.403936</td>\n",
       "      <td>-0.028390</td>\n",
       "      <td>0</td>\n",
       "    </tr>\n",
       "    <tr>\n",
       "      <th>1</th>\n",
       "      <td>0.504209</td>\n",
       "      <td>0.0</td>\n",
       "      <td>-0.401461</td>\n",
       "      <td>0.0</td>\n",
       "      <td>0.0</td>\n",
       "      <td>0.0</td>\n",
       "      <td>0.0</td>\n",
       "      <td>0.0</td>\n",
       "      <td>-0.390871</td>\n",
       "      <td>-0.408087</td>\n",
       "      <td>0.198395</td>\n",
       "      <td>-0.958224</td>\n",
       "      <td>-0.707578</td>\n",
       "      <td>-1.033938</td>\n",
       "      <td>-0.855435</td>\n",
       "      <td>1.886781</td>\n",
       "      <td>3.248698</td>\n",
       "      <td>-0.028390</td>\n",
       "      <td>0</td>\n",
       "    </tr>\n",
       "    <tr>\n",
       "      <th>2</th>\n",
       "      <td>0.822891</td>\n",
       "      <td>1.0</td>\n",
       "      <td>-0.383028</td>\n",
       "      <td>0.0</td>\n",
       "      <td>0.0</td>\n",
       "      <td>0.0</td>\n",
       "      <td>0.0</td>\n",
       "      <td>0.0</td>\n",
       "      <td>-0.278714</td>\n",
       "      <td>0.654004</td>\n",
       "      <td>2.347696</td>\n",
       "      <td>-0.386701</td>\n",
       "      <td>0.368133</td>\n",
       "      <td>0.839362</td>\n",
       "      <td>0.697818</td>\n",
       "      <td>-0.541124</td>\n",
       "      <td>-0.035515</td>\n",
       "      <td>-0.028390</td>\n",
       "      <td>0</td>\n",
       "    </tr>\n",
       "    <tr>\n",
       "      <th>3</th>\n",
       "      <td>0.183278</td>\n",
       "      <td>1.0</td>\n",
       "      <td>-0.020427</td>\n",
       "      <td>0.0</td>\n",
       "      <td>0.0</td>\n",
       "      <td>1.0</td>\n",
       "      <td>1.0</td>\n",
       "      <td>0.0</td>\n",
       "      <td>-0.390871</td>\n",
       "      <td>-0.640420</td>\n",
       "      <td>0.467058</td>\n",
       "      <td>-0.708183</td>\n",
       "      <td>-0.583457</td>\n",
       "      <td>-1.178038</td>\n",
       "      <td>-1.509436</td>\n",
       "      <td>0.900445</td>\n",
       "      <td>-1.403936</td>\n",
       "      <td>1.119365</td>\n",
       "      <td>0</td>\n",
       "    </tr>\n",
       "    <tr>\n",
       "      <th>4</th>\n",
       "      <td>0.213271</td>\n",
       "      <td>1.0</td>\n",
       "      <td>0.606026</td>\n",
       "      <td>0.0</td>\n",
       "      <td>0.0</td>\n",
       "      <td>0.0</td>\n",
       "      <td>0.0</td>\n",
       "      <td>0.0</td>\n",
       "      <td>1.067161</td>\n",
       "      <td>0.156149</td>\n",
       "      <td>-1.252382</td>\n",
       "      <td>6.935943</td>\n",
       "      <td>-0.494693</td>\n",
       "      <td>0.335012</td>\n",
       "      <td>0.943068</td>\n",
       "      <td>0.488568</td>\n",
       "      <td>0.511854</td>\n",
       "      <td>-1.176144</td>\n",
       "      <td>1</td>\n",
       "    </tr>\n",
       "  </tbody>\n",
       "</table>\n",
       "</div>"
      ],
      "text/plain": [
       "      N_Days  Drug       Age  Sex  Ascites  Hepatomegaly  Spiders  Edema  \\\n",
       "id                                                                         \n",
       "0   0.154784   0.0 -0.770118  0.0      0.0           0.0      0.0    0.0   \n",
       "1   0.504209   0.0 -0.401461  0.0      0.0           0.0      0.0    0.0   \n",
       "2   0.822891   1.0 -0.383028  0.0      0.0           0.0      0.0    0.0   \n",
       "3   0.183278   1.0 -0.020427  0.0      0.0           1.0      1.0    0.0   \n",
       "4   0.213271   1.0  0.606026  0.0      0.0           0.0      0.0    0.0   \n",
       "\n",
       "    Bilirubin  Cholesterol   Albumin    Copper  Alk_Phos      SGOT  \\\n",
       "id                                                                   \n",
       "0   -0.503027    -0.549146 -0.876255 -0.583162 -0.382608  0.010787   \n",
       "1   -0.390871    -0.408087  0.198395 -0.958224 -0.707578 -1.033938   \n",
       "2   -0.278714     0.654004  2.347696 -0.386701  0.368133  0.839362   \n",
       "3   -0.390871    -0.640420  0.467058 -0.708183 -0.583457 -1.178038   \n",
       "4    1.067161     0.156149 -1.252382  6.935943 -0.494693  0.335012   \n",
       "\n",
       "    Tryglicerides  Platelets  Prothrombin     Stage  Status  \n",
       "id                                                           \n",
       "0       -1.209685   1.919298    -1.403936 -0.028390       0  \n",
       "1       -0.855435   1.886781     3.248698 -0.028390       0  \n",
       "2        0.697818  -0.541124    -0.035515 -0.028390       0  \n",
       "3       -1.509436   0.900445    -1.403936  1.119365       0  \n",
       "4        0.943068   0.488568     0.511854 -1.176144       1  "
      ]
     },
     "execution_count": 23,
     "metadata": {},
     "output_type": "execute_result"
    }
   ],
   "source": [
    "encoder = OrdinalEncoder()\n",
    "\n",
    "categorical_features = [\n",
    "    'Drug', 'Sex', 'Ascites', 'Hepatomegaly',\n",
    "    'Spiders', 'Edema'\n",
    "]\n",
    "df[categorical_features] = encoder.fit_transform(df[categorical_features])\n",
    "df.head()\n"
   ]
  },
  {
   "cell_type": "code",
   "execution_count": 24,
   "id": "4114b907",
   "metadata": {
    "execution": {
     "iopub.execute_input": "2025-07-09T05:54:09.261003Z",
     "iopub.status.busy": "2025-07-09T05:54:09.260537Z",
     "iopub.status.idle": "2025-07-09T05:54:09.277290Z",
     "shell.execute_reply": "2025-07-09T05:54:09.275888Z"
    },
    "papermill": {
     "duration": 0.041871,
     "end_time": "2025-07-09T05:54:09.279180",
     "exception": false,
     "start_time": "2025-07-09T05:54:09.237309",
     "status": "completed"
    },
    "tags": []
   },
   "outputs": [
    {
     "name": "stdout",
     "output_type": "stream",
     "text": [
      "(11999, 18)\n",
      "(3000, 18)\n"
     ]
    }
   ],
   "source": [
    "# train / test set\n",
    "X = df.drop(\"Status\", axis=1)\n",
    "y = df[\"Status\"]\n",
    "\n",
    "X_train, X_test, y_train, y_test = train_test_split(X, y, test_size=0.20, random_state=42)\n",
    "\n",
    "print(X_train.shape)\n",
    "print(X_test.shape)"
   ]
  },
  {
   "cell_type": "code",
   "execution_count": 25,
   "id": "f2e19c0a",
   "metadata": {
    "execution": {
     "iopub.execute_input": "2025-07-09T05:54:09.326051Z",
     "iopub.status.busy": "2025-07-09T05:54:09.325615Z",
     "iopub.status.idle": "2025-07-09T05:54:09.334063Z",
     "shell.execute_reply": "2025-07-09T05:54:09.333117Z"
    },
    "papermill": {
     "duration": 0.034371,
     "end_time": "2025-07-09T05:54:09.335751",
     "exception": false,
     "start_time": "2025-07-09T05:54:09.301380",
     "status": "completed"
    },
    "tags": []
   },
   "outputs": [
    {
     "data": {
      "text/plain": [
       "id\n",
       "9838     1\n",
       "7689     0\n",
       "6557     0\n",
       "6872     2\n",
       "820      1\n",
       "        ..\n",
       "5191     1\n",
       "13418    0\n",
       "5390     0\n",
       "860      0\n",
       "7270     0\n",
       "Name: Status, Length: 11999, dtype: int64"
      ]
     },
     "execution_count": 25,
     "metadata": {},
     "output_type": "execute_result"
    }
   ],
   "source": [
    "y_train"
   ]
  },
  {
   "cell_type": "markdown",
   "id": "1b585f98",
   "metadata": {
    "papermill": {
     "duration": 0.022387,
     "end_time": "2025-07-09T05:54:09.380908",
     "exception": false,
     "start_time": "2025-07-09T05:54:09.358521",
     "status": "completed"
    },
    "tags": []
   },
   "source": [
    "## Logistic Regression"
   ]
  },
  {
   "cell_type": "code",
   "execution_count": 26,
   "id": "c6cc494e",
   "metadata": {
    "execution": {
     "iopub.execute_input": "2025-07-09T05:54:09.428360Z",
     "iopub.status.busy": "2025-07-09T05:54:09.427223Z",
     "iopub.status.idle": "2025-07-09T05:54:10.235360Z",
     "shell.execute_reply": "2025-07-09T05:54:10.234315Z"
    },
    "papermill": {
     "duration": 0.833259,
     "end_time": "2025-07-09T05:54:10.237173",
     "exception": false,
     "start_time": "2025-07-09T05:54:09.403914",
     "status": "completed"
    },
    "tags": []
   },
   "outputs": [
    {
     "name": "stdout",
     "output_type": "stream",
     "text": [
      "Classification Report:\n",
      "\n",
      "              precision    recall  f1-score   support\n",
      "\n",
      "           0       0.84      0.94      0.89      2004\n",
      "           1       0.81      0.67      0.74       922\n",
      "           2       0.14      0.01      0.02        74\n",
      "\n",
      "    accuracy                           0.83      3000\n",
      "   macro avg       0.60      0.54      0.55      3000\n",
      "weighted avg       0.82      0.83      0.82      3000\n",
      "\n",
      "Accurcy: 83.2%\n",
      "Log Loss: 0.4638036132991406\n"
     ]
    },
    {
     "data": {
      "image/png": "[encoded data removed]",
      "text/plain": [
       "<Figure size 640x480 with 2 Axes>"
      ]
     },
     "metadata": {},
     "output_type": "display_data"
    }
   ],
   "source": [
    "LR_model = LogisticRegression()\n",
    "LR_model.fit(X_train, y_train)\n",
    "\n",
    "y_pred = LR_model.predict(X_test)\n",
    "y_pred_proba = LR_model.predict_proba(X_test)  # Ehtimollikni olish\n",
    "\n",
    "print(f\"Classification Report:\\n\\n{metrics.classification_report(y_test, y_pred)}\")\n",
    "print(f\"Accurcy: {metrics.accuracy_score(y_test, y_pred)*100:.1f}%\")\n",
    "print(f\"Log Loss: {metrics.log_loss(y_test, y_pred_proba, labels=LR_model.classes_)}\")\n",
    "\n",
    "# confusion metrics\n",
    "metrics.ConfusionMatrixDisplay.from_predictions(y_test, y_pred)\n",
    "plt.show()"
   ]
  },
  {
   "cell_type": "markdown",
   "id": "9d94dddb",
   "metadata": {
    "papermill": {
     "duration": 0.0231,
     "end_time": "2025-07-09T05:54:10.283630",
     "exception": false,
     "start_time": "2025-07-09T05:54:10.260530",
     "status": "completed"
    },
    "tags": []
   },
   "source": [
    "## Random Forest Classifier"
   ]
  },
  {
   "cell_type": "code",
   "execution_count": 27,
   "id": "f5bb1762",
   "metadata": {
    "execution": {
     "iopub.execute_input": "2025-07-09T05:54:10.331932Z",
     "iopub.status.busy": "2025-07-09T05:54:10.330794Z",
     "iopub.status.idle": "2025-07-09T05:54:12.534848Z",
     "shell.execute_reply": "2025-07-09T05:54:12.533795Z"
    },
    "papermill": {
     "duration": 2.229844,
     "end_time": "2025-07-09T05:54:12.536468",
     "exception": false,
     "start_time": "2025-07-09T05:54:10.306624",
     "status": "completed"
    },
    "tags": []
   },
   "outputs": [
    {
     "name": "stdout",
     "output_type": "stream",
     "text": [
      "Classification Report:\n",
      "\n",
      "              precision    recall  f1-score   support\n",
      "\n",
      "           0       0.88      0.91      0.89      2004\n",
      "           1       0.79      0.76      0.77       922\n",
      "           2       0.30      0.19      0.23        74\n",
      "\n",
      "    accuracy                           0.84      3000\n",
      "   macro avg       0.66      0.62      0.63      3000\n",
      "weighted avg       0.84      0.84      0.84      3000\n",
      "\n",
      "Accurcy: 84.3%\n",
      "Log Loss: 0.4279555781804011\n"
     ]
    },
    {
     "data": {
      "image/png": "[encoded data removed]",
      "text/plain": [
       "<Figure size 640x480 with 2 Axes>"
      ]
     },
     "metadata": {},
     "output_type": "display_data"
    }
   ],
   "source": [
    "tree_model = RandomForestClassifier(class_weight='balanced', random_state=42, max_depth=14)\n",
    "tree_model.fit(X_train, y_train)\n",
    "\n",
    "y_pred = tree_model.predict(X_test)\n",
    "y_pred_proba = tree_model.predict_proba(X_test)  # Ehtimollikni olish\n",
    "\n",
    "print(f\"Classification Report:\\n\\n{metrics.classification_report(y_test, y_pred)}\")\n",
    "print(f\"Accurcy: {metrics.accuracy_score(y_test, y_pred)*100:.1f}%\")\n",
    "print(f\"Log Loss: {metrics.log_loss(y_test, y_pred_proba, labels=tree_model.classes_)}\")\n",
    "\n",
    "# confusion metrics\n",
    "metrics.ConfusionMatrixDisplay.from_predictions(y_test, y_pred)\n",
    "plt.show()"
   ]
  },
  {
   "cell_type": "markdown",
   "id": "1a39e047",
   "metadata": {
    "execution": {
     "iopub.execute_input": "2025-07-09T03:43:22.930635Z",
     "iopub.status.busy": "2025-07-09T03:43:22.930290Z",
     "iopub.status.idle": "2025-07-09T03:43:22.936073Z",
     "shell.execute_reply": "2025-07-09T03:43:22.934660Z",
     "shell.execute_reply.started": "2025-07-09T03:43:22.930607Z"
    },
    "papermill": {
     "duration": 0.023071,
     "end_time": "2025-07-09T05:54:12.583262",
     "exception": false,
     "start_time": "2025-07-09T05:54:12.560191",
     "status": "completed"
    },
    "tags": []
   },
   "source": [
    "## **XGBoost**"
   ]
  },
  {
   "cell_type": "code",
   "execution_count": 28,
   "id": "ff088b3e",
   "metadata": {
    "execution": {
     "iopub.execute_input": "2025-07-09T05:54:12.631196Z",
     "iopub.status.busy": "2025-07-09T05:54:12.630146Z",
     "iopub.status.idle": "2025-07-09T05:54:13.558779Z",
     "shell.execute_reply": "2025-07-09T05:54:13.557626Z"
    },
    "papermill": {
     "duration": 0.954524,
     "end_time": "2025-07-09T05:54:13.560801",
     "exception": false,
     "start_time": "2025-07-09T05:54:12.606277",
     "status": "completed"
    },
    "tags": []
   },
   "outputs": [
    {
     "name": "stdout",
     "output_type": "stream",
     "text": [
      "Classification Report:\n",
      "\n",
      "              precision    recall  f1-score   support\n",
      "\n",
      "           0       0.87      0.92      0.90      2004\n",
      "           1       0.81      0.75      0.78       922\n",
      "           2       0.64      0.19      0.29        74\n",
      "\n",
      "    accuracy                           0.85      3000\n",
      "   macro avg       0.77      0.62      0.65      3000\n",
      "weighted avg       0.85      0.85      0.85      3000\n",
      "\n",
      "Accurcy: 85.2%\n",
      "Log Loss: 0.39529723723546734\n"
     ]
    },
    {
     "data": {
      "image/png": "[encoded data removed]",
      "text/plain": [
       "<Figure size 640x480 with 2 Axes>"
      ]
     },
     "metadata": {},
     "output_type": "display_data"
    },
    {
     "name": "stdout",
     "output_type": "stream",
     "text": [
      "\n",
      "\n"
     ]
    }
   ],
   "source": [
    "XGBoost = XGBClassifier()\n",
    "XGBoost.fit(X_train, y_train)\n",
    "\n",
    "# tekshirish\n",
    "y_pred = XGBoost.predict(X_test)\n",
    "y_pred_proba = XGBoost.predict_proba(X_test)  # Ehtimollikni olish\n",
    "print(f\"Classification Report:\\n\\n{metrics.classification_report(y_test, y_pred)}\")\n",
    "print(f\"Accurcy: {metrics.accuracy_score(y_test, y_pred)*100:.1f}%\")\n",
    "print(f\"Log Loss: {metrics.log_loss(y_test, y_pred_proba, labels=XGBoost.classes_)}\")\n",
    "\n",
    "# confusion metrics\n",
    "metrics.ConfusionMatrixDisplay.from_predictions(y_test, y_pred)\n",
    "plt.show()\n",
    "print(\"\\n\")"
   ]
  },
  {
   "cell_type": "markdown",
   "id": "3a101856",
   "metadata": {
    "papermill": {
     "duration": 0.022783,
     "end_time": "2025-07-09T05:54:13.607899",
     "exception": false,
     "start_time": "2025-07-09T05:54:13.585116",
     "status": "completed"
    },
    "tags": []
   },
   "source": [
    "## Support Vector Machine"
   ]
  },
  {
   "cell_type": "code",
   "execution_count": 29,
   "id": "00eb779d",
   "metadata": {
    "execution": {
     "iopub.execute_input": "2025-07-09T05:54:13.655872Z",
     "iopub.status.busy": "2025-07-09T05:54:13.655481Z",
     "iopub.status.idle": "2025-07-09T05:54:44.721876Z",
     "shell.execute_reply": "2025-07-09T05:54:44.720728Z"
    },
    "papermill": {
     "duration": 31.093294,
     "end_time": "2025-07-09T05:54:44.724459",
     "exception": false,
     "start_time": "2025-07-09T05:54:13.631165",
     "status": "completed"
    },
    "tags": []
   },
   "outputs": [
    {
     "name": "stderr",
     "output_type": "stream",
     "text": [
      "/usr/local/lib/python3.11/dist-packages/sklearn/metrics/_classification.py:1344: UndefinedMetricWarning: Precision and F-score are ill-defined and being set to 0.0 in labels with no predicted samples. Use `zero_division` parameter to control this behavior.\n",
      "  _warn_prf(average, modifier, msg_start, len(result))\n",
      "/usr/local/lib/python3.11/dist-packages/sklearn/metrics/_classification.py:1344: UndefinedMetricWarning: Precision and F-score are ill-defined and being set to 0.0 in labels with no predicted samples. Use `zero_division` parameter to control this behavior.\n",
      "  _warn_prf(average, modifier, msg_start, len(result))\n",
      "/usr/local/lib/python3.11/dist-packages/sklearn/metrics/_classification.py:1344: UndefinedMetricWarning: Precision and F-score are ill-defined and being set to 0.0 in labels with no predicted samples. Use `zero_division` parameter to control this behavior.\n",
      "  _warn_prf(average, modifier, msg_start, len(result))\n"
     ]
    },
    {
     "name": "stdout",
     "output_type": "stream",
     "text": [
      "Classification Report:\n",
      "\n",
      "              precision    recall  f1-score   support\n",
      "\n",
      "           0       0.84      0.94      0.89      2004\n",
      "           1       0.83      0.68      0.75       922\n",
      "           2       0.00      0.00      0.00        74\n",
      "\n",
      "    accuracy                           0.84      3000\n",
      "   macro avg       0.56      0.54      0.55      3000\n",
      "weighted avg       0.82      0.84      0.83      3000\n",
      "\n",
      "Accurcy: 84.0%\n",
      "Log Loss: 0.4509487406812613\n"
     ]
    },
    {
     "data": {
      "image/png": "[encoded data removed]",
      "text/plain": [
       "<Figure size 640x480 with 2 Axes>"
      ]
     },
     "metadata": {},
     "output_type": "display_data"
    },
    {
     "name": "stdout",
     "output_type": "stream",
     "text": [
      "\n",
      "\n"
     ]
    }
   ],
   "source": [
    "# model\n",
    "svm = SVC(probability=True)\n",
    "svm.fit(X_train, y_train)\n",
    "\n",
    "# tekshirish\n",
    "y_pred = svm.predict(X_test)\n",
    "y_pred_proba = svm.predict_proba(X_test)  # Ehtimollikni olish\n",
    "print(f\"Classification Report:\\n\\n{metrics.classification_report(y_test, y_pred)}\")\n",
    "print(f\"Accurcy: {metrics.accuracy_score(y_test, y_pred)*100:.1f}%\")\n",
    "print(f\"Log Loss: {metrics.log_loss(y_test, y_pred_proba, labels=svm.classes_)}\")\n",
    "\n",
    "\n",
    "# confusion metrics\n",
    "metrics.ConfusionMatrixDisplay.from_predictions(y_test, y_pred)\n",
    "plt.show()\n",
    "print(\"\\n\")"
   ]
  },
  {
   "cell_type": "markdown",
   "id": "abd3efca",
   "metadata": {
    "papermill": {
     "duration": 0.023275,
     "end_time": "2025-07-09T05:54:44.772831",
     "exception": false,
     "start_time": "2025-07-09T05:54:44.749556",
     "status": "completed"
    },
    "tags": []
   },
   "source": [
    "## CatBoostClassifier"
   ]
  },
  {
   "cell_type": "code",
   "execution_count": 30,
   "id": "8ca8329b",
   "metadata": {
    "execution": {
     "iopub.execute_input": "2025-07-09T05:54:44.821254Z",
     "iopub.status.busy": "2025-07-09T05:54:44.820786Z",
     "iopub.status.idle": "2025-07-09T05:54:50.102361Z",
     "shell.execute_reply": "2025-07-09T05:54:50.101290Z"
    },
    "papermill": {
     "duration": 5.308501,
     "end_time": "2025-07-09T05:54:50.104696",
     "exception": false,
     "start_time": "2025-07-09T05:54:44.796195",
     "status": "completed"
    },
    "tags": []
   },
   "outputs": [
    {
     "name": "stdout",
     "output_type": "stream",
     "text": [
      "0:\ttest: 0.8369390\tbest: 0.8369390 (0)\ttotal: 65.9ms\tremaining: 1m 5s\n",
      "100:\ttest: 0.8996792\tbest: 0.8996792 (100)\ttotal: 910ms\tremaining: 8.1s\n",
      "200:\ttest: 0.9066007\tbest: 0.9066134 (199)\ttotal: 1.68s\tremaining: 6.68s\n",
      "300:\ttest: 0.9109642\tbest: 0.9110623 (291)\ttotal: 2.46s\tremaining: 5.71s\n",
      "400:\ttest: 0.9138396\tbest: 0.9140006 (397)\ttotal: 3.24s\tremaining: 4.84s\n",
      "500:\ttest: 0.9148231\tbest: 0.9148231 (500)\ttotal: 4.01s\tremaining: 3.99s\n",
      "Stopped by overfitting detector  (50 iterations wait)\n",
      "\n",
      "bestTest = 0.9158782989\n",
      "bestIteration = 544\n",
      "\n",
      "Shrink model to first 545 iterations.\n",
      "Classification Report:\n",
      "\n",
      "              precision    recall  f1-score   support\n",
      "\n",
      "           0       0.91      0.84      0.87      2004\n",
      "           1       0.75      0.77      0.76       922\n",
      "           2       0.20      0.54      0.29        74\n",
      "\n",
      "    accuracy                           0.81      3000\n",
      "   macro avg       0.62      0.72      0.64      3000\n",
      "weighted avg       0.84      0.81      0.82      3000\n",
      "\n",
      "Accurcy: 80.9%\n",
      "Log Loss: 0.48980913408967164\n"
     ]
    },
    {
     "data": {
      "image/png": "[encoded data removed]",
      "text/plain": [
       "<Figure size 640x480 with 2 Axes>"
      ]
     },
     "metadata": {},
     "output_type": "display_data"
    },
    {
     "name": "stdout",
     "output_type": "stream",
     "text": [
      "\n",
      "\n"
     ]
    }
   ],
   "source": [
    "# model\n",
    "# barcha kategorik ustunlarni aniqlash\n",
    "categorical_columns = X_train.select_dtypes(include=[\"object\", \"category\"]).columns.tolist()\n",
    "model = CatBoostClassifier(\n",
    "    iterations=1000,              \n",
    "    learning_rate=0.05,           \n",
    "    depth=6,                     \n",
    "    l2_leaf_reg=3,                \n",
    "    auto_class_weights='Balanced',   \n",
    "    cat_features=categorical_columns,   \n",
    "    eval_metric='AUC',            \n",
    "    early_stopping_rounds=50,     \n",
    "    task_type='CPU',              \n",
    "    verbose=100,                  \n",
    "    random_seed=42)   \n",
    "# Modelni o‘qitish\n",
    "model.fit(\n",
    "    X_train, y_train,\n",
    "    eval_set=(X_test, y_test),    \n",
    "    use_best_model=True         \n",
    ")\n",
    "\n",
    "# tekshirish\n",
    "y_pred = model.predict(X_test)\n",
    "y_pred_proba = model.predict_proba(X_test)  # Ehtimollikni olish\n",
    "print(f\"Classification Report:\\n\\n{metrics.classification_report(y_test, y_pred)}\")\n",
    "print(f\"Accurcy: {metrics.accuracy_score(y_test, y_pred)*100:.1f}%\")\n",
    "print(f\"Log Loss: {metrics.log_loss(y_test, y_pred_proba, labels=model.classes_)}\")\n",
    "\n",
    "# confusion metrics\n",
    "metrics.ConfusionMatrixDisplay.from_predictions(y_test, y_pred)\n",
    "plt.show()\n",
    "print(\"\\n\")\n"
   ]
  },
  {
   "cell_type": "markdown",
   "id": "1053d44e",
   "metadata": {
    "papermill": {
     "duration": 0.024851,
     "end_time": "2025-07-09T05:54:50.158592",
     "exception": false,
     "start_time": "2025-07-09T05:54:50.133741",
     "status": "completed"
    },
    "tags": []
   },
   "source": [
    "## Decision Tree"
   ]
  },
  {
   "cell_type": "code",
   "execution_count": 31,
   "id": "dfd45d23",
   "metadata": {
    "execution": {
     "iopub.execute_input": "2025-07-09T05:54:50.209253Z",
     "iopub.status.busy": "2025-07-09T05:54:50.208818Z",
     "iopub.status.idle": "2025-07-09T05:54:50.565259Z",
     "shell.execute_reply": "2025-07-09T05:54:50.564067Z"
    },
    "papermill": {
     "duration": 0.384092,
     "end_time": "2025-07-09T05:54:50.567325",
     "exception": false,
     "start_time": "2025-07-09T05:54:50.183233",
     "status": "completed"
    },
    "tags": []
   },
   "outputs": [
    {
     "name": "stdout",
     "output_type": "stream",
     "text": [
      "Classification Report:\n",
      "\n",
      "              precision    recall  f1-score   support\n",
      "\n",
      "           0       0.85      0.84      0.85      2004\n",
      "           1       0.68      0.70      0.69       922\n",
      "           2       0.13      0.15      0.14        74\n",
      "\n",
      "    accuracy                           0.78      3000\n",
      "   macro avg       0.55      0.56      0.56      3000\n",
      "weighted avg       0.78      0.78      0.78      3000\n",
      "\n",
      "Accurcy: 77.8%\n",
      "Log Loss: 7.989676501254302\n"
     ]
    },
    {
     "data": {
      "image/png": "[encoded data removed]",
      "text/plain": [
       "<Figure size 640x480 with 2 Axes>"
      ]
     },
     "metadata": {},
     "output_type": "display_data"
    },
    {
     "name": "stdout",
     "output_type": "stream",
     "text": [
      "\n",
      "\n"
     ]
    }
   ],
   "source": [
    "# model\n",
    "D_tree = DecisionTreeClassifier()\n",
    "D_tree.fit(X_train, y_train)\n",
    "\n",
    "# tekshirish\n",
    "y_pred = D_tree.predict(X_test)\n",
    "y_pred_proba = D_tree.predict_proba(X_test)  # Ehtimollikni olish\n",
    "print(f\"Classification Report:\\n\\n{metrics.classification_report(y_test, y_pred)}\")\n",
    "print(f\"Accurcy: {metrics.accuracy_score(y_test, y_pred)*100:.1f}%\")\n",
    "print(f\"Log Loss: {metrics.log_loss(y_test, y_pred_proba, labels=D_tree.classes_)}\")\n",
    "\n",
    "\n",
    "# confusion metrics\n",
    "metrics.ConfusionMatrixDisplay.from_predictions(y_test, y_pred)\n",
    "plt.show()\n",
    "print(\"\\n\")"
   ]
  },
  {
   "cell_type": "markdown",
   "id": "6b2ddda3",
   "metadata": {
    "papermill": {
     "duration": 0.027336,
     "end_time": "2025-07-09T05:54:50.622422",
     "exception": false,
     "start_time": "2025-07-09T05:54:50.595086",
     "status": "completed"
    },
    "tags": []
   },
   "source": [
    "# Modellarimiz eng kichik `loss` qiymatini qaytargani `XGBoost Classifier`i bo'ldi endi  predict uchun shu modelni ishlatamiz"
   ]
  },
  {
   "cell_type": "code",
   "execution_count": 32,
   "id": "fcc4a03d",
   "metadata": {
    "execution": {
     "iopub.execute_input": "2025-07-09T05:54:50.676992Z",
     "iopub.status.busy": "2025-07-09T05:54:50.676530Z",
     "iopub.status.idle": "2025-07-09T05:54:50.742914Z",
     "shell.execute_reply": "2025-07-09T05:54:50.741622Z"
    },
    "papermill": {
     "duration": 0.095281,
     "end_time": "2025-07-09T05:54:50.744717",
     "exception": false,
     "start_time": "2025-07-09T05:54:50.649436",
     "status": "completed"
    },
    "tags": []
   },
   "outputs": [
    {
     "name": "stderr",
     "output_type": "stream",
     "text": [
      "/usr/local/lib/python3.11/dist-packages/pandas/io/formats/format.py:1458: RuntimeWarning: invalid value encountered in greater\n",
      "  has_large_values = (abs_vals > 1e6).any()\n",
      "/usr/local/lib/python3.11/dist-packages/pandas/io/formats/format.py:1459: RuntimeWarning: invalid value encountered in less\n",
      "  has_small_values = ((abs_vals < 10 ** (-self.digits)) & (abs_vals > 0)).any()\n",
      "/usr/local/lib/python3.11/dist-packages/pandas/io/formats/format.py:1459: RuntimeWarning: invalid value encountered in greater\n",
      "  has_small_values = ((abs_vals < 10 ** (-self.digits)) & (abs_vals > 0)).any()\n"
     ]
    },
    {
     "data": {
      "text/html": [
       "<div>\n",
       "<style scoped>\n",
       "    .dataframe tbody tr th:only-of-type {\n",
       "        vertical-align: middle;\n",
       "    }\n",
       "\n",
       "    .dataframe tbody tr th {\n",
       "        vertical-align: top;\n",
       "    }\n",
       "\n",
       "    .dataframe thead th {\n",
       "        text-align: right;\n",
       "    }\n",
       "</style>\n",
       "<table border=\"1\" class=\"dataframe\">\n",
       "  <thead>\n",
       "    <tr style=\"text-align: right;\">\n",
       "      <th></th>\n",
       "      <th>N_Days</th>\n",
       "      <th>Drug</th>\n",
       "      <th>Age</th>\n",
       "      <th>Sex</th>\n",
       "      <th>Ascites</th>\n",
       "      <th>Hepatomegaly</th>\n",
       "      <th>Spiders</th>\n",
       "      <th>Edema</th>\n",
       "      <th>Bilirubin</th>\n",
       "      <th>Cholesterol</th>\n",
       "      <th>Albumin</th>\n",
       "      <th>Copper</th>\n",
       "      <th>Alk_Phos</th>\n",
       "      <th>SGOT</th>\n",
       "      <th>Tryglicerides</th>\n",
       "      <th>Platelets</th>\n",
       "      <th>Prothrombin</th>\n",
       "      <th>Stage</th>\n",
       "    </tr>\n",
       "    <tr>\n",
       "      <th>id</th>\n",
       "      <th></th>\n",
       "      <th></th>\n",
       "      <th></th>\n",
       "      <th></th>\n",
       "      <th></th>\n",
       "      <th></th>\n",
       "      <th></th>\n",
       "      <th></th>\n",
       "      <th></th>\n",
       "      <th></th>\n",
       "      <th></th>\n",
       "      <th></th>\n",
       "      <th></th>\n",
       "      <th></th>\n",
       "      <th></th>\n",
       "      <th></th>\n",
       "      <th></th>\n",
       "      <th></th>\n",
       "    </tr>\n",
       "  </thead>\n",
       "  <tbody>\n",
       "    <tr>\n",
       "      <th>15000</th>\n",
       "      <td>22646.0</td>\n",
       "      <td>NaN</td>\n",
       "      <td>22646.0</td>\n",
       "      <td>F</td>\n",
       "      <td>NaN</td>\n",
       "      <td>NaN</td>\n",
       "      <td>NaN</td>\n",
       "      <td>N</td>\n",
       "      <td>1.4</td>\n",
       "      <td>NaN</td>\n",
       "      <td>3.34</td>\n",
       "      <td>NaN</td>\n",
       "      <td>NaN</td>\n",
       "      <td>NaN</td>\n",
       "      <td>NaN</td>\n",
       "      <td>190.0</td>\n",
       "      <td>11.0</td>\n",
       "      <td>4.0</td>\n",
       "    </tr>\n",
       "    <tr>\n",
       "      <th>15001</th>\n",
       "      <td>2149.0</td>\n",
       "      <td>NaN</td>\n",
       "      <td>18993.0</td>\n",
       "      <td>F</td>\n",
       "      <td>NaN</td>\n",
       "      <td>NaN</td>\n",
       "      <td>NaN</td>\n",
       "      <td>N</td>\n",
       "      <td>0.9</td>\n",
       "      <td>NaN</td>\n",
       "      <td>3.24</td>\n",
       "      <td>NaN</td>\n",
       "      <td>NaN</td>\n",
       "      <td>NaN</td>\n",
       "      <td>NaN</td>\n",
       "      <td>233.0</td>\n",
       "      <td>9.0</td>\n",
       "      <td>2.0</td>\n",
       "    </tr>\n",
       "    <tr>\n",
       "      <th>15002</th>\n",
       "      <td>3850.0</td>\n",
       "      <td>D-penicillamine</td>\n",
       "      <td>16050.0</td>\n",
       "      <td>M</td>\n",
       "      <td>N</td>\n",
       "      <td>N</td>\n",
       "      <td>N</td>\n",
       "      <td>N</td>\n",
       "      <td>1.0</td>\n",
       "      <td>460.0</td>\n",
       "      <td>3.64</td>\n",
       "      <td>75.0</td>\n",
       "      <td>2148.0</td>\n",
       "      <td>102.3</td>\n",
       "      <td>118.0</td>\n",
       "      <td>172.0</td>\n",
       "      <td>10.6</td>\n",
       "      <td>3.0</td>\n",
       "    </tr>\n",
       "    <tr>\n",
       "      <th>15003</th>\n",
       "      <td>2419.0</td>\n",
       "      <td>D-penicillamine</td>\n",
       "      <td>20354.0</td>\n",
       "      <td>F</td>\n",
       "      <td>N</td>\n",
       "      <td>N</td>\n",
       "      <td>N</td>\n",
       "      <td>N</td>\n",
       "      <td>0.6</td>\n",
       "      <td>258.0</td>\n",
       "      <td>3.96</td>\n",
       "      <td>31.0</td>\n",
       "      <td>642.0</td>\n",
       "      <td>70.0</td>\n",
       "      <td>83.0</td>\n",
       "      <td>336.0</td>\n",
       "      <td>10.8</td>\n",
       "      <td>2.0</td>\n",
       "    </tr>\n",
       "    <tr>\n",
       "      <th>15004</th>\n",
       "      <td>1086.0</td>\n",
       "      <td>NaN</td>\n",
       "      <td>23376.0</td>\n",
       "      <td>F</td>\n",
       "      <td>NaN</td>\n",
       "      <td>NaN</td>\n",
       "      <td>NaN</td>\n",
       "      <td>N</td>\n",
       "      <td>4.4</td>\n",
       "      <td>NaN</td>\n",
       "      <td>4.40</td>\n",
       "      <td>NaN</td>\n",
       "      <td>NaN</td>\n",
       "      <td>NaN</td>\n",
       "      <td>NaN</td>\n",
       "      <td>447.0</td>\n",
       "      <td>10.3</td>\n",
       "      <td>2.0</td>\n",
       "    </tr>\n",
       "  </tbody>\n",
       "</table>\n",
       "</div>"
      ],
      "text/plain": [
       "        N_Days             Drug      Age Sex Ascites Hepatomegaly Spiders  \\\n",
       "id                                                                          \n",
       "15000  22646.0              NaN  22646.0   F     NaN          NaN     NaN   \n",
       "15001   2149.0              NaN  18993.0   F     NaN          NaN     NaN   \n",
       "15002   3850.0  D-penicillamine  16050.0   M       N            N       N   \n",
       "15003   2419.0  D-penicillamine  20354.0   F       N            N       N   \n",
       "15004   1086.0              NaN  23376.0   F     NaN          NaN     NaN   \n",
       "\n",
       "      Edema  Bilirubin  Cholesterol  Albumin  Copper  Alk_Phos   SGOT  \\\n",
       "id                                                                      \n",
       "15000     N        1.4          NaN     3.34     NaN       NaN    NaN   \n",
       "15001     N        0.9          NaN     3.24     NaN       NaN    NaN   \n",
       "15002     N        1.0        460.0     3.64    75.0    2148.0  102.3   \n",
       "15003     N        0.6        258.0     3.96    31.0     642.0   70.0   \n",
       "15004     N        4.4          NaN     4.40     NaN       NaN    NaN   \n",
       "\n",
       "       Tryglicerides  Platelets  Prothrombin  Stage  \n",
       "id                                                   \n",
       "15000            NaN      190.0         11.0    4.0  \n",
       "15001            NaN      233.0          9.0    2.0  \n",
       "15002          118.0      172.0         10.6    3.0  \n",
       "15003           83.0      336.0         10.8    2.0  \n",
       "15004            NaN      447.0         10.3    2.0  "
      ]
     },
     "execution_count": 32,
     "metadata": {},
     "output_type": "execute_result"
    }
   ],
   "source": [
    "df_for_pred = pd.read_csv(\"/kaggle/input/multiclassificationtask/test.csv\", index_col=0)\n",
    "df_for_pred.head()"
   ]
  },
  {
   "cell_type": "code",
   "execution_count": 33,
   "id": "e5287f9a",
   "metadata": {
    "execution": {
     "iopub.execute_input": "2025-07-09T05:54:50.798080Z",
     "iopub.status.busy": "2025-07-09T05:54:50.797568Z",
     "iopub.status.idle": "2025-07-09T05:54:50.815321Z",
     "shell.execute_reply": "2025-07-09T05:54:50.813879Z"
    },
    "papermill": {
     "duration": 0.047183,
     "end_time": "2025-07-09T05:54:50.817348",
     "exception": false,
     "start_time": "2025-07-09T05:54:50.770165",
     "status": "completed"
    },
    "tags": []
   },
   "outputs": [
    {
     "name": "stdout",
     "output_type": "stream",
     "text": [
      "<class 'pandas.core.frame.DataFrame'>\n",
      "Index: 10000 entries, 15000 to 24999\n",
      "Data columns (total 18 columns):\n",
      " #   Column         Non-Null Count  Dtype  \n",
      "---  ------         --------------  -----  \n",
      " 0   N_Days         10000 non-null  float64\n",
      " 1   Drug           5602 non-null   object \n",
      " 2   Age            10000 non-null  float64\n",
      " 3   Sex            10000 non-null  object \n",
      " 4   Ascites        5609 non-null   object \n",
      " 5   Hepatomegaly   5598 non-null   object \n",
      " 6   Spiders        5596 non-null   object \n",
      " 7   Edema          10000 non-null  object \n",
      " 8   Bilirubin      10000 non-null  float64\n",
      " 9   Cholesterol    4353 non-null   float64\n",
      " 10  Albumin        10000 non-null  float64\n",
      " 11  Copper         5531 non-null   float64\n",
      " 12  Alk_Phos       5597 non-null   float64\n",
      " 13  SGOT           5594 non-null   float64\n",
      " 14  Tryglicerides  4320 non-null   float64\n",
      " 15  Platelets      9618 non-null   float64\n",
      " 16  Prothrombin    9991 non-null   float64\n",
      " 17  Stage          10000 non-null  float64\n",
      "dtypes: float64(12), object(6)\n",
      "memory usage: 1.4+ MB\n"
     ]
    }
   ],
   "source": [
    "df2 = df_for_pred.copy()\n",
    "df2.info()"
   ]
  },
  {
   "cell_type": "code",
   "execution_count": 34,
   "id": "1e918e9c",
   "metadata": {
    "execution": {
     "iopub.execute_input": "2025-07-09T05:54:50.871707Z",
     "iopub.status.busy": "2025-07-09T05:54:50.871298Z",
     "iopub.status.idle": "2025-07-09T05:54:50.903759Z",
     "shell.execute_reply": "2025-07-09T05:54:50.902482Z"
    },
    "papermill": {
     "duration": 0.061491,
     "end_time": "2025-07-09T05:54:50.906063",
     "exception": false,
     "start_time": "2025-07-09T05:54:50.844572",
     "status": "completed"
    },
    "tags": []
   },
   "outputs": [],
   "source": [
    "# NaN qiymatlarni to'ldirish\n",
    "for col in numerical_features:\n",
    "    df2[col] = df2[col].fillna(df2[col].mean())\n",
    "\n",
    "for col in categorical_features:\n",
    "    if df2[col].mode().empty:\n",
    "        df2[col] = df2[col].fillna(\"Unknown\")\n",
    "    else:\n",
    "        df2[col] = df2[col].fillna(df2[col].mode()[0])\n",
    "\n",
    "    "
   ]
  },
  {
   "cell_type": "code",
   "execution_count": 35,
   "id": "706b3c34",
   "metadata": {
    "execution": {
     "iopub.execute_input": "2025-07-09T05:54:50.962760Z",
     "iopub.status.busy": "2025-07-09T05:54:50.962373Z",
     "iopub.status.idle": "2025-07-09T05:54:50.979638Z",
     "shell.execute_reply": "2025-07-09T05:54:50.978425Z"
    },
    "papermill": {
     "duration": 0.046471,
     "end_time": "2025-07-09T05:54:50.981832",
     "exception": false,
     "start_time": "2025-07-09T05:54:50.935361",
     "status": "completed"
    },
    "tags": []
   },
   "outputs": [
    {
     "name": "stdout",
     "output_type": "stream",
     "text": [
      "<class 'pandas.core.frame.DataFrame'>\n",
      "Index: 10000 entries, 15000 to 24999\n",
      "Data columns (total 18 columns):\n",
      " #   Column         Non-Null Count  Dtype  \n",
      "---  ------         --------------  -----  \n",
      " 0   N_Days         10000 non-null  float64\n",
      " 1   Drug           10000 non-null  object \n",
      " 2   Age            10000 non-null  float64\n",
      " 3   Sex            10000 non-null  object \n",
      " 4   Ascites        10000 non-null  object \n",
      " 5   Hepatomegaly   10000 non-null  object \n",
      " 6   Spiders        10000 non-null  object \n",
      " 7   Edema          10000 non-null  object \n",
      " 8   Bilirubin      10000 non-null  float64\n",
      " 9   Cholesterol    10000 non-null  float64\n",
      " 10  Albumin        10000 non-null  float64\n",
      " 11  Copper         10000 non-null  float64\n",
      " 12  Alk_Phos       10000 non-null  float64\n",
      " 13  SGOT           10000 non-null  float64\n",
      " 14  Tryglicerides  10000 non-null  float64\n",
      " 15  Platelets      10000 non-null  float64\n",
      " 16  Prothrombin    10000 non-null  float64\n",
      " 17  Stage          10000 non-null  float64\n",
      "dtypes: float64(12), object(6)\n",
      "memory usage: 1.4+ MB\n"
     ]
    }
   ],
   "source": [
    "df2.info()"
   ]
  },
  {
   "cell_type": "code",
   "execution_count": 36,
   "id": "d89da37b",
   "metadata": {
    "execution": {
     "iopub.execute_input": "2025-07-09T05:54:51.036419Z",
     "iopub.status.busy": "2025-07-09T05:54:51.035557Z",
     "iopub.status.idle": "2025-07-09T05:54:51.066295Z",
     "shell.execute_reply": "2025-07-09T05:54:51.065052Z"
    },
    "papermill": {
     "duration": 0.06096,
     "end_time": "2025-07-09T05:54:51.068401",
     "exception": false,
     "start_time": "2025-07-09T05:54:51.007441",
     "status": "completed"
    },
    "tags": []
   },
   "outputs": [
    {
     "data": {
      "text/html": [
       "<div>\n",
       "<style scoped>\n",
       "    .dataframe tbody tr th:only-of-type {\n",
       "        vertical-align: middle;\n",
       "    }\n",
       "\n",
       "    .dataframe tbody tr th {\n",
       "        vertical-align: top;\n",
       "    }\n",
       "\n",
       "    .dataframe thead th {\n",
       "        text-align: right;\n",
       "    }\n",
       "</style>\n",
       "<table border=\"1\" class=\"dataframe\">\n",
       "  <thead>\n",
       "    <tr style=\"text-align: right;\">\n",
       "      <th></th>\n",
       "      <th>N_Days</th>\n",
       "      <th>Drug</th>\n",
       "      <th>Age</th>\n",
       "      <th>Sex</th>\n",
       "      <th>Ascites</th>\n",
       "      <th>Hepatomegaly</th>\n",
       "      <th>Spiders</th>\n",
       "      <th>Edema</th>\n",
       "      <th>Bilirubin</th>\n",
       "      <th>Cholesterol</th>\n",
       "      <th>Albumin</th>\n",
       "      <th>Copper</th>\n",
       "      <th>Alk_Phos</th>\n",
       "      <th>SGOT</th>\n",
       "      <th>Tryglicerides</th>\n",
       "      <th>Platelets</th>\n",
       "      <th>Prothrombin</th>\n",
       "      <th>Stage</th>\n",
       "    </tr>\n",
       "    <tr>\n",
       "      <th>id</th>\n",
       "      <th></th>\n",
       "      <th></th>\n",
       "      <th></th>\n",
       "      <th></th>\n",
       "      <th></th>\n",
       "      <th></th>\n",
       "      <th></th>\n",
       "      <th></th>\n",
       "      <th></th>\n",
       "      <th></th>\n",
       "      <th></th>\n",
       "      <th></th>\n",
       "      <th></th>\n",
       "      <th></th>\n",
       "      <th></th>\n",
       "      <th></th>\n",
       "      <th></th>\n",
       "      <th></th>\n",
       "    </tr>\n",
       "  </thead>\n",
       "  <tbody>\n",
       "    <tr>\n",
       "      <th>15000</th>\n",
       "      <td>14.837089</td>\n",
       "      <td>D-penicillamine</td>\n",
       "      <td>0.825194</td>\n",
       "      <td>F</td>\n",
       "      <td>N</td>\n",
       "      <td>N</td>\n",
       "      <td>N</td>\n",
       "      <td>N</td>\n",
       "      <td>-0.163520</td>\n",
       "      <td>0.000000</td>\n",
       "      <td>-0.474441</td>\n",
       "      <td>0.000000</td>\n",
       "      <td>0.000000</td>\n",
       "      <td>7.491508e-17</td>\n",
       "      <td>4.359120e-16</td>\n",
       "      <td>-0.647771</td>\n",
       "      <td>0.496810</td>\n",
       "      <td>1.112149</td>\n",
       "    </tr>\n",
       "    <tr>\n",
       "      <th>15001</th>\n",
       "      <td>0.123156</td>\n",
       "      <td>D-penicillamine</td>\n",
       "      <td>-0.090227</td>\n",
       "      <td>F</td>\n",
       "      <td>N</td>\n",
       "      <td>N</td>\n",
       "      <td>N</td>\n",
       "      <td>N</td>\n",
       "      <td>-0.339241</td>\n",
       "      <td>0.000000</td>\n",
       "      <td>-0.739037</td>\n",
       "      <td>0.000000</td>\n",
       "      <td>0.000000</td>\n",
       "      <td>7.491508e-17</td>\n",
       "      <td>4.359120e-16</td>\n",
       "      <td>-0.220612</td>\n",
       "      <td>-2.215852</td>\n",
       "      <td>-1.156154</td>\n",
       "    </tr>\n",
       "    <tr>\n",
       "      <th>15002</th>\n",
       "      <td>1.344232</td>\n",
       "      <td>D-penicillamine</td>\n",
       "      <td>-0.827726</td>\n",
       "      <td>M</td>\n",
       "      <td>N</td>\n",
       "      <td>N</td>\n",
       "      <td>N</td>\n",
       "      <td>N</td>\n",
       "      <td>-0.304097</td>\n",
       "      <td>1.080930</td>\n",
       "      <td>0.319346</td>\n",
       "      <td>0.005336</td>\n",
       "      <td>0.376229</td>\n",
       "      <td>-3.712068e-02</td>\n",
       "      <td>2.393327e-01</td>\n",
       "      <td>-0.826582</td>\n",
       "      <td>-0.045722</td>\n",
       "      <td>-0.022003</td>\n",
       "    </tr>\n",
       "    <tr>\n",
       "      <th>15003</th>\n",
       "      <td>0.316977</td>\n",
       "      <td>D-penicillamine</td>\n",
       "      <td>0.250832</td>\n",
       "      <td>F</td>\n",
       "      <td>N</td>\n",
       "      <td>N</td>\n",
       "      <td>N</td>\n",
       "      <td>N</td>\n",
       "      <td>-0.444674</td>\n",
       "      <td>-0.596633</td>\n",
       "      <td>1.166052</td>\n",
       "      <td>-0.810657</td>\n",
       "      <td>-0.727611</td>\n",
       "      <td>-2.073959e-01</td>\n",
       "      <td>-8.342776e-01</td>\n",
       "      <td>0.802584</td>\n",
       "      <td>0.225544</td>\n",
       "      <td>-1.156154</td>\n",
       "    </tr>\n",
       "    <tr>\n",
       "      <th>15004</th>\n",
       "      <td>-0.639927</td>\n",
       "      <td>D-penicillamine</td>\n",
       "      <td>1.008127</td>\n",
       "      <td>F</td>\n",
       "      <td>N</td>\n",
       "      <td>N</td>\n",
       "      <td>N</td>\n",
       "      <td>N</td>\n",
       "      <td>0.890811</td>\n",
       "      <td>0.000000</td>\n",
       "      <td>2.330274</td>\n",
       "      <td>0.000000</td>\n",
       "      <td>0.000000</td>\n",
       "      <td>7.491508e-17</td>\n",
       "      <td>4.359120e-16</td>\n",
       "      <td>1.905252</td>\n",
       "      <td>-0.452622</td>\n",
       "      <td>-1.156154</td>\n",
       "    </tr>\n",
       "  </tbody>\n",
       "</table>\n",
       "</div>"
      ],
      "text/plain": [
       "          N_Days             Drug       Age Sex Ascites Hepatomegaly Spiders  \\\n",
       "id                                                                             \n",
       "15000  14.837089  D-penicillamine  0.825194   F       N            N       N   \n",
       "15001   0.123156  D-penicillamine -0.090227   F       N            N       N   \n",
       "15002   1.344232  D-penicillamine -0.827726   M       N            N       N   \n",
       "15003   0.316977  D-penicillamine  0.250832   F       N            N       N   \n",
       "15004  -0.639927  D-penicillamine  1.008127   F       N            N       N   \n",
       "\n",
       "      Edema  Bilirubin  Cholesterol   Albumin    Copper  Alk_Phos  \\\n",
       "id                                                                  \n",
       "15000     N  -0.163520     0.000000 -0.474441  0.000000  0.000000   \n",
       "15001     N  -0.339241     0.000000 -0.739037  0.000000  0.000000   \n",
       "15002     N  -0.304097     1.080930  0.319346  0.005336  0.376229   \n",
       "15003     N  -0.444674    -0.596633  1.166052 -0.810657 -0.727611   \n",
       "15004     N   0.890811     0.000000  2.330274  0.000000  0.000000   \n",
       "\n",
       "               SGOT  Tryglicerides  Platelets  Prothrombin     Stage  \n",
       "id                                                                    \n",
       "15000  7.491508e-17   4.359120e-16  -0.647771     0.496810  1.112149  \n",
       "15001  7.491508e-17   4.359120e-16  -0.220612    -2.215852 -1.156154  \n",
       "15002 -3.712068e-02   2.393327e-01  -0.826582    -0.045722 -0.022003  \n",
       "15003 -2.073959e-01  -8.342776e-01   0.802584     0.225544 -1.156154  \n",
       "15004  7.491508e-17   4.359120e-16   1.905252    -0.452622 -1.156154  "
      ]
     },
     "execution_count": 36,
     "metadata": {},
     "output_type": "execute_result"
    }
   ],
   "source": [
    "scaler = StandardScaler()\n",
    "\n",
    "numerical_features = [\n",
    "    'N_Days', 'Age', 'Bilirubin', 'Cholesterol', 'Albumin',\n",
    "    'Copper', 'Alk_Phos', 'SGOT', 'Tryglicerides', 'Platelets',\n",
    "    'Prothrombin', 'Stage'\n",
    "]\n",
    "df2[numerical_features] = scaler.fit_transform(df2[numerical_features])\n",
    "df2.head()"
   ]
  },
  {
   "cell_type": "code",
   "execution_count": 37,
   "id": "edf33313",
   "metadata": {
    "execution": {
     "iopub.execute_input": "2025-07-09T05:54:51.125201Z",
     "iopub.status.busy": "2025-07-09T05:54:51.124793Z",
     "iopub.status.idle": "2025-07-09T05:54:51.165537Z",
     "shell.execute_reply": "2025-07-09T05:54:51.164462Z"
    },
    "papermill": {
     "duration": 0.070429,
     "end_time": "2025-07-09T05:54:51.167372",
     "exception": false,
     "start_time": "2025-07-09T05:54:51.096943",
     "status": "completed"
    },
    "tags": []
   },
   "outputs": [
    {
     "data": {
      "text/html": [
       "<div>\n",
       "<style scoped>\n",
       "    .dataframe tbody tr th:only-of-type {\n",
       "        vertical-align: middle;\n",
       "    }\n",
       "\n",
       "    .dataframe tbody tr th {\n",
       "        vertical-align: top;\n",
       "    }\n",
       "\n",
       "    .dataframe thead th {\n",
       "        text-align: right;\n",
       "    }\n",
       "</style>\n",
       "<table border=\"1\" class=\"dataframe\">\n",
       "  <thead>\n",
       "    <tr style=\"text-align: right;\">\n",
       "      <th></th>\n",
       "      <th>N_Days</th>\n",
       "      <th>Drug</th>\n",
       "      <th>Age</th>\n",
       "      <th>Sex</th>\n",
       "      <th>Ascites</th>\n",
       "      <th>Hepatomegaly</th>\n",
       "      <th>Spiders</th>\n",
       "      <th>Edema</th>\n",
       "      <th>Bilirubin</th>\n",
       "      <th>Cholesterol</th>\n",
       "      <th>Albumin</th>\n",
       "      <th>Copper</th>\n",
       "      <th>Alk_Phos</th>\n",
       "      <th>SGOT</th>\n",
       "      <th>Tryglicerides</th>\n",
       "      <th>Platelets</th>\n",
       "      <th>Prothrombin</th>\n",
       "      <th>Stage</th>\n",
       "    </tr>\n",
       "    <tr>\n",
       "      <th>id</th>\n",
       "      <th></th>\n",
       "      <th></th>\n",
       "      <th></th>\n",
       "      <th></th>\n",
       "      <th></th>\n",
       "      <th></th>\n",
       "      <th></th>\n",
       "      <th></th>\n",
       "      <th></th>\n",
       "      <th></th>\n",
       "      <th></th>\n",
       "      <th></th>\n",
       "      <th></th>\n",
       "      <th></th>\n",
       "      <th></th>\n",
       "      <th></th>\n",
       "      <th></th>\n",
       "      <th></th>\n",
       "    </tr>\n",
       "  </thead>\n",
       "  <tbody>\n",
       "    <tr>\n",
       "      <th>15000</th>\n",
       "      <td>14.837089</td>\n",
       "      <td>0.0</td>\n",
       "      <td>0.825194</td>\n",
       "      <td>0.0</td>\n",
       "      <td>0.0</td>\n",
       "      <td>0.0</td>\n",
       "      <td>0.0</td>\n",
       "      <td>0.0</td>\n",
       "      <td>-0.163520</td>\n",
       "      <td>0.000000</td>\n",
       "      <td>-0.474441</td>\n",
       "      <td>0.000000</td>\n",
       "      <td>0.000000</td>\n",
       "      <td>7.491508e-17</td>\n",
       "      <td>4.359120e-16</td>\n",
       "      <td>-0.647771</td>\n",
       "      <td>0.496810</td>\n",
       "      <td>1.112149</td>\n",
       "    </tr>\n",
       "    <tr>\n",
       "      <th>15001</th>\n",
       "      <td>0.123156</td>\n",
       "      <td>0.0</td>\n",
       "      <td>-0.090227</td>\n",
       "      <td>0.0</td>\n",
       "      <td>0.0</td>\n",
       "      <td>0.0</td>\n",
       "      <td>0.0</td>\n",
       "      <td>0.0</td>\n",
       "      <td>-0.339241</td>\n",
       "      <td>0.000000</td>\n",
       "      <td>-0.739037</td>\n",
       "      <td>0.000000</td>\n",
       "      <td>0.000000</td>\n",
       "      <td>7.491508e-17</td>\n",
       "      <td>4.359120e-16</td>\n",
       "      <td>-0.220612</td>\n",
       "      <td>-2.215852</td>\n",
       "      <td>-1.156154</td>\n",
       "    </tr>\n",
       "    <tr>\n",
       "      <th>15002</th>\n",
       "      <td>1.344232</td>\n",
       "      <td>0.0</td>\n",
       "      <td>-0.827726</td>\n",
       "      <td>1.0</td>\n",
       "      <td>0.0</td>\n",
       "      <td>0.0</td>\n",
       "      <td>0.0</td>\n",
       "      <td>0.0</td>\n",
       "      <td>-0.304097</td>\n",
       "      <td>1.080930</td>\n",
       "      <td>0.319346</td>\n",
       "      <td>0.005336</td>\n",
       "      <td>0.376229</td>\n",
       "      <td>-3.712068e-02</td>\n",
       "      <td>2.393327e-01</td>\n",
       "      <td>-0.826582</td>\n",
       "      <td>-0.045722</td>\n",
       "      <td>-0.022003</td>\n",
       "    </tr>\n",
       "    <tr>\n",
       "      <th>15003</th>\n",
       "      <td>0.316977</td>\n",
       "      <td>0.0</td>\n",
       "      <td>0.250832</td>\n",
       "      <td>0.0</td>\n",
       "      <td>0.0</td>\n",
       "      <td>0.0</td>\n",
       "      <td>0.0</td>\n",
       "      <td>0.0</td>\n",
       "      <td>-0.444674</td>\n",
       "      <td>-0.596633</td>\n",
       "      <td>1.166052</td>\n",
       "      <td>-0.810657</td>\n",
       "      <td>-0.727611</td>\n",
       "      <td>-2.073959e-01</td>\n",
       "      <td>-8.342776e-01</td>\n",
       "      <td>0.802584</td>\n",
       "      <td>0.225544</td>\n",
       "      <td>-1.156154</td>\n",
       "    </tr>\n",
       "    <tr>\n",
       "      <th>15004</th>\n",
       "      <td>-0.639927</td>\n",
       "      <td>0.0</td>\n",
       "      <td>1.008127</td>\n",
       "      <td>0.0</td>\n",
       "      <td>0.0</td>\n",
       "      <td>0.0</td>\n",
       "      <td>0.0</td>\n",
       "      <td>0.0</td>\n",
       "      <td>0.890811</td>\n",
       "      <td>0.000000</td>\n",
       "      <td>2.330274</td>\n",
       "      <td>0.000000</td>\n",
       "      <td>0.000000</td>\n",
       "      <td>7.491508e-17</td>\n",
       "      <td>4.359120e-16</td>\n",
       "      <td>1.905252</td>\n",
       "      <td>-0.452622</td>\n",
       "      <td>-1.156154</td>\n",
       "    </tr>\n",
       "  </tbody>\n",
       "</table>\n",
       "</div>"
      ],
      "text/plain": [
       "          N_Days  Drug       Age  Sex  Ascites  Hepatomegaly  Spiders  Edema  \\\n",
       "id                                                                             \n",
       "15000  14.837089   0.0  0.825194  0.0      0.0           0.0      0.0    0.0   \n",
       "15001   0.123156   0.0 -0.090227  0.0      0.0           0.0      0.0    0.0   \n",
       "15002   1.344232   0.0 -0.827726  1.0      0.0           0.0      0.0    0.0   \n",
       "15003   0.316977   0.0  0.250832  0.0      0.0           0.0      0.0    0.0   \n",
       "15004  -0.639927   0.0  1.008127  0.0      0.0           0.0      0.0    0.0   \n",
       "\n",
       "       Bilirubin  Cholesterol   Albumin    Copper  Alk_Phos          SGOT  \\\n",
       "id                                                                          \n",
       "15000  -0.163520     0.000000 -0.474441  0.000000  0.000000  7.491508e-17   \n",
       "15001  -0.339241     0.000000 -0.739037  0.000000  0.000000  7.491508e-17   \n",
       "15002  -0.304097     1.080930  0.319346  0.005336  0.376229 -3.712068e-02   \n",
       "15003  -0.444674    -0.596633  1.166052 -0.810657 -0.727611 -2.073959e-01   \n",
       "15004   0.890811     0.000000  2.330274  0.000000  0.000000  7.491508e-17   \n",
       "\n",
       "       Tryglicerides  Platelets  Prothrombin     Stage  \n",
       "id                                                      \n",
       "15000   4.359120e-16  -0.647771     0.496810  1.112149  \n",
       "15001   4.359120e-16  -0.220612    -2.215852 -1.156154  \n",
       "15002   2.393327e-01  -0.826582    -0.045722 -0.022003  \n",
       "15003  -8.342776e-01   0.802584     0.225544 -1.156154  \n",
       "15004   4.359120e-16   1.905252    -0.452622 -1.156154  "
      ]
     },
     "execution_count": 37,
     "metadata": {},
     "output_type": "execute_result"
    }
   ],
   "source": [
    "encoder = OrdinalEncoder()\n",
    "\n",
    "categorical_features = [\n",
    "    'Drug', 'Sex', 'Ascites', 'Hepatomegaly',\n",
    "    'Spiders', 'Edema'\n",
    "]\n",
    "df2[categorical_features] = encoder.fit_transform(df2[categorical_features])\n",
    "df2.head()\n"
   ]
  },
  {
   "cell_type": "code",
   "execution_count": 38,
   "id": "9a8fdacc",
   "metadata": {
    "execution": {
     "iopub.execute_input": "2025-07-09T05:54:51.222512Z",
     "iopub.status.busy": "2025-07-09T05:54:51.222138Z",
     "iopub.status.idle": "2025-07-09T05:54:51.264747Z",
     "shell.execute_reply": "2025-07-09T05:54:51.263961Z"
    },
    "papermill": {
     "duration": 0.072393,
     "end_time": "2025-07-09T05:54:51.267082",
     "exception": false,
     "start_time": "2025-07-09T05:54:51.194689",
     "status": "completed"
    },
    "tags": []
   },
   "outputs": [],
   "source": [
    "# Qiymatlarni predict qilamiz\n",
    "X = df2.copy()\n",
    "proba = XGBoost.predict_proba(X)"
   ]
  },
  {
   "cell_type": "code",
   "execution_count": 39,
   "id": "f47cd8f5",
   "metadata": {
    "execution": {
     "iopub.execute_input": "2025-07-09T05:54:51.330176Z",
     "iopub.status.busy": "2025-07-09T05:54:51.329750Z",
     "iopub.status.idle": "2025-07-09T05:54:51.360178Z",
     "shell.execute_reply": "2025-07-09T05:54:51.359232Z"
    },
    "papermill": {
     "duration": 0.062688,
     "end_time": "2025-07-09T05:54:51.362327",
     "exception": false,
     "start_time": "2025-07-09T05:54:51.299639",
     "status": "completed"
    },
    "tags": []
   },
   "outputs": [
    {
     "data": {
      "text/html": [
       "<div>\n",
       "<style scoped>\n",
       "    .dataframe tbody tr th:only-of-type {\n",
       "        vertical-align: middle;\n",
       "    }\n",
       "\n",
       "    .dataframe tbody tr th {\n",
       "        vertical-align: top;\n",
       "    }\n",
       "\n",
       "    .dataframe thead th {\n",
       "        text-align: right;\n",
       "    }\n",
       "</style>\n",
       "<table border=\"1\" class=\"dataframe\">\n",
       "  <thead>\n",
       "    <tr style=\"text-align: right;\">\n",
       "      <th></th>\n",
       "      <th>id</th>\n",
       "      <th>Status_C</th>\n",
       "      <th>Status_CL</th>\n",
       "      <th>Status_D</th>\n",
       "    </tr>\n",
       "  </thead>\n",
       "  <tbody>\n",
       "    <tr>\n",
       "      <th>0</th>\n",
       "      <td>15000</td>\n",
       "      <td>0.628084</td>\n",
       "      <td>0.034788</td>\n",
       "      <td>0.337128</td>\n",
       "    </tr>\n",
       "    <tr>\n",
       "      <th>1</th>\n",
       "      <td>15001</td>\n",
       "      <td>0.628084</td>\n",
       "      <td>0.034788</td>\n",
       "      <td>0.337128</td>\n",
       "    </tr>\n",
       "    <tr>\n",
       "      <th>2</th>\n",
       "      <td>15002</td>\n",
       "      <td>0.628084</td>\n",
       "      <td>0.034788</td>\n",
       "      <td>0.337128</td>\n",
       "    </tr>\n",
       "    <tr>\n",
       "      <th>3</th>\n",
       "      <td>15003</td>\n",
       "      <td>0.628084</td>\n",
       "      <td>0.034788</td>\n",
       "      <td>0.337128</td>\n",
       "    </tr>\n",
       "    <tr>\n",
       "      <th>4</th>\n",
       "      <td>15004</td>\n",
       "      <td>0.628084</td>\n",
       "      <td>0.034788</td>\n",
       "      <td>0.337128</td>\n",
       "    </tr>\n",
       "    <tr>\n",
       "      <th>...</th>\n",
       "      <td>...</td>\n",
       "      <td>...</td>\n",
       "      <td>...</td>\n",
       "      <td>...</td>\n",
       "    </tr>\n",
       "    <tr>\n",
       "      <th>9995</th>\n",
       "      <td>24995</td>\n",
       "      <td>0.628084</td>\n",
       "      <td>0.034788</td>\n",
       "      <td>0.337128</td>\n",
       "    </tr>\n",
       "    <tr>\n",
       "      <th>9996</th>\n",
       "      <td>24996</td>\n",
       "      <td>0.628084</td>\n",
       "      <td>0.034788</td>\n",
       "      <td>0.337128</td>\n",
       "    </tr>\n",
       "    <tr>\n",
       "      <th>9997</th>\n",
       "      <td>24997</td>\n",
       "      <td>0.628084</td>\n",
       "      <td>0.034788</td>\n",
       "      <td>0.337128</td>\n",
       "    </tr>\n",
       "    <tr>\n",
       "      <th>9998</th>\n",
       "      <td>24998</td>\n",
       "      <td>0.628084</td>\n",
       "      <td>0.034788</td>\n",
       "      <td>0.337128</td>\n",
       "    </tr>\n",
       "    <tr>\n",
       "      <th>9999</th>\n",
       "      <td>24999</td>\n",
       "      <td>0.628084</td>\n",
       "      <td>0.034788</td>\n",
       "      <td>0.337128</td>\n",
       "    </tr>\n",
       "  </tbody>\n",
       "</table>\n",
       "<p>10000 rows × 4 columns</p>\n",
       "</div>"
      ],
      "text/plain": [
       "         id  Status_C  Status_CL  Status_D\n",
       "0     15000  0.628084   0.034788  0.337128\n",
       "1     15001  0.628084   0.034788  0.337128\n",
       "2     15002  0.628084   0.034788  0.337128\n",
       "3     15003  0.628084   0.034788  0.337128\n",
       "4     15004  0.628084   0.034788  0.337128\n",
       "...     ...       ...        ...       ...\n",
       "9995  24995  0.628084   0.034788  0.337128\n",
       "9996  24996  0.628084   0.034788  0.337128\n",
       "9997  24997  0.628084   0.034788  0.337128\n",
       "9998  24998  0.628084   0.034788  0.337128\n",
       "9999  24999  0.628084   0.034788  0.337128\n",
       "\n",
       "[10000 rows x 4 columns]"
      ]
     },
     "execution_count": 39,
     "metadata": {},
     "output_type": "execute_result"
    }
   ],
   "source": [
    "sample_submission = pd.read_csv(\"/kaggle/input/multiclassificationtask/sample_submission.csv\")\n",
    "sample_submission"
   ]
  },
  {
   "cell_type": "code",
   "execution_count": 40,
   "id": "fe1927e7",
   "metadata": {
    "execution": {
     "iopub.execute_input": "2025-07-09T05:54:51.417798Z",
     "iopub.status.busy": "2025-07-09T05:54:51.417404Z",
     "iopub.status.idle": "2025-07-09T05:54:51.432003Z",
     "shell.execute_reply": "2025-07-09T05:54:51.431037Z"
    },
    "papermill": {
     "duration": 0.044341,
     "end_time": "2025-07-09T05:54:51.433600",
     "exception": false,
     "start_time": "2025-07-09T05:54:51.389259",
     "status": "completed"
    },
    "tags": []
   },
   "outputs": [
    {
     "data": {
      "text/html": [
       "<div>\n",
       "<style scoped>\n",
       "    .dataframe tbody tr th:only-of-type {\n",
       "        vertical-align: middle;\n",
       "    }\n",
       "\n",
       "    .dataframe tbody tr th {\n",
       "        vertical-align: top;\n",
       "    }\n",
       "\n",
       "    .dataframe thead th {\n",
       "        text-align: right;\n",
       "    }\n",
       "</style>\n",
       "<table border=\"1\" class=\"dataframe\">\n",
       "  <thead>\n",
       "    <tr style=\"text-align: right;\">\n",
       "      <th></th>\n",
       "      <th>id</th>\n",
       "      <th>Status_C</th>\n",
       "      <th>Status_CL</th>\n",
       "      <th>Status_D</th>\n",
       "    </tr>\n",
       "  </thead>\n",
       "  <tbody>\n",
       "    <tr>\n",
       "      <th>0</th>\n",
       "      <td>15000</td>\n",
       "      <td>0.874750</td>\n",
       "      <td>0.123232</td>\n",
       "      <td>0.002018</td>\n",
       "    </tr>\n",
       "    <tr>\n",
       "      <th>1</th>\n",
       "      <td>15001</td>\n",
       "      <td>0.900812</td>\n",
       "      <td>0.084810</td>\n",
       "      <td>0.014378</td>\n",
       "    </tr>\n",
       "    <tr>\n",
       "      <th>2</th>\n",
       "      <td>15002</td>\n",
       "      <td>0.834854</td>\n",
       "      <td>0.161504</td>\n",
       "      <td>0.003642</td>\n",
       "    </tr>\n",
       "    <tr>\n",
       "      <th>3</th>\n",
       "      <td>15003</td>\n",
       "      <td>0.985429</td>\n",
       "      <td>0.014328</td>\n",
       "      <td>0.000243</td>\n",
       "    </tr>\n",
       "    <tr>\n",
       "      <th>4</th>\n",
       "      <td>15004</td>\n",
       "      <td>0.782777</td>\n",
       "      <td>0.180441</td>\n",
       "      <td>0.036782</td>\n",
       "    </tr>\n",
       "    <tr>\n",
       "      <th>...</th>\n",
       "      <td>...</td>\n",
       "      <td>...</td>\n",
       "      <td>...</td>\n",
       "      <td>...</td>\n",
       "    </tr>\n",
       "    <tr>\n",
       "      <th>9995</th>\n",
       "      <td>24995</td>\n",
       "      <td>0.987670</td>\n",
       "      <td>0.011023</td>\n",
       "      <td>0.001307</td>\n",
       "    </tr>\n",
       "    <tr>\n",
       "      <th>9996</th>\n",
       "      <td>24996</td>\n",
       "      <td>0.007409</td>\n",
       "      <td>0.991138</td>\n",
       "      <td>0.001452</td>\n",
       "    </tr>\n",
       "    <tr>\n",
       "      <th>9997</th>\n",
       "      <td>24997</td>\n",
       "      <td>0.927830</td>\n",
       "      <td>0.066840</td>\n",
       "      <td>0.005330</td>\n",
       "    </tr>\n",
       "    <tr>\n",
       "      <th>9998</th>\n",
       "      <td>24998</td>\n",
       "      <td>0.997110</td>\n",
       "      <td>0.002878</td>\n",
       "      <td>0.000012</td>\n",
       "    </tr>\n",
       "    <tr>\n",
       "      <th>9999</th>\n",
       "      <td>24999</td>\n",
       "      <td>0.743410</td>\n",
       "      <td>0.235317</td>\n",
       "      <td>0.021273</td>\n",
       "    </tr>\n",
       "  </tbody>\n",
       "</table>\n",
       "<p>10000 rows × 4 columns</p>\n",
       "</div>"
      ],
      "text/plain": [
       "         id  Status_C  Status_CL  Status_D\n",
       "0     15000  0.874750   0.123232  0.002018\n",
       "1     15001  0.900812   0.084810  0.014378\n",
       "2     15002  0.834854   0.161504  0.003642\n",
       "3     15003  0.985429   0.014328  0.000243\n",
       "4     15004  0.782777   0.180441  0.036782\n",
       "...     ...       ...        ...       ...\n",
       "9995  24995  0.987670   0.011023  0.001307\n",
       "9996  24996  0.007409   0.991138  0.001452\n",
       "9997  24997  0.927830   0.066840  0.005330\n",
       "9998  24998  0.997110   0.002878  0.000012\n",
       "9999  24999  0.743410   0.235317  0.021273\n",
       "\n",
       "[10000 rows x 4 columns]"
      ]
     },
     "execution_count": 40,
     "metadata": {},
     "output_type": "execute_result"
    }
   ],
   "source": [
    "submission = pd.DataFrame({\n",
    "    \"id\":df2.index, \n",
    "    \"Status_C\":proba[:, 0], \n",
    "    \"Status_CL\":proba[:, 1],\n",
    "    \"Status_D\":proba[:, 2]\n",
    "})\n",
    "submission"
   ]
  },
  {
   "cell_type": "code",
   "execution_count": 41,
   "id": "a501a71c",
   "metadata": {
    "execution": {
     "iopub.execute_input": "2025-07-09T05:54:51.492136Z",
     "iopub.status.busy": "2025-07-09T05:54:51.491666Z",
     "iopub.status.idle": "2025-07-09T05:54:51.551893Z",
     "shell.execute_reply": "2025-07-09T05:54:51.550925Z"
    },
    "papermill": {
     "duration": 0.091301,
     "end_time": "2025-07-09T05:54:51.553935",
     "exception": false,
     "start_time": "2025-07-09T05:54:51.462634",
     "status": "completed"
    },
    "tags": []
   },
   "outputs": [],
   "source": [
    "submission.to_csv(\"submission_me.csv\")"
   ]
  }
 ],
 "metadata": {
  "kaggle": {
   "accelerator": "none",
   "dataSources": [
    {
     "databundleVersionId": 9248778,
     "sourceId": 83459,
     "sourceType": "competition"
    }
   ],
   "dockerImageVersionId": 31089,
   "isGpuEnabled": false,
   "isInternetEnabled": true,
   "language": "python",
   "sourceType": "notebook"
  },
  "kernelspec": {
   "display_name": "california_housing",
   "language": "python",
   "name": "python3"
  },
  "language_info": {
   "codemirror_mode": {
    "name": "ipython",
    "version": 3
   },
   "file_extension": ".py",
   "mimetype": "text/x-python",
   "name": "python",
   "nbconvert_exporter": "python",
   "pygments_lexer": "ipython3",
   "version": "3.11.11"
  },
  "papermill": {
   "default_parameters": {},
   "duration": 63.046811,
   "end_time": "2025-07-09T05:54:52.808084",
   "environment_variables": {},
   "exception": null,
   "input_path": "__notebook__.ipynb",
   "output_path": "__notebook__.ipynb",
   "parameters": {},
   "start_time": "2025-07-09T05:53:49.761273",
   "version": "2.6.0"
  }
 },
 "nbformat": 4,
 "nbformat_minor": 5
}
